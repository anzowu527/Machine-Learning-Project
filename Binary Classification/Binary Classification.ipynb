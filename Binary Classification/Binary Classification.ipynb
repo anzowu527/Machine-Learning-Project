{
 "cells": [
  {
   "cell_type": "code",
   "execution_count": 1,
   "id": "012e4e7d",
   "metadata": {
    "executionInfo": {
     "elapsed": 101,
     "status": "ok",
     "timestamp": 1699815964452,
     "user": {
      "displayName": "Anqi Wu",
      "userId": "10543324134832573727"
     },
     "user_tz": 300
    },
    "id": "012e4e7d"
   },
   "outputs": [],
   "source": [
    "import numpy as np\n",
    "import pandas as pd\n",
    "import matplotlib.pyplot as plt"
   ]
  },
  {
   "cell_type": "markdown",
   "id": "95444fd4",
   "metadata": {
    "id": "95444fd4"
   },
   "source": [
    "## Exploratory Data Analysis"
   ]
  },
  {
   "cell_type": "code",
   "execution_count": 2,
   "id": "c3cb77ec",
   "metadata": {
    "executionInfo": {
     "elapsed": 399,
     "status": "ok",
     "timestamp": 1699815985281,
     "user": {
      "displayName": "Anqi Wu",
      "userId": "10543324134832573727"
     },
     "user_tz": 300
    },
    "id": "c3cb77ec"
   },
   "outputs": [],
   "source": [
    "train_x = pd.read_csv(\"train_X.csv\")\n",
    "train_y = pd.read_csv(\"train_y.csv\")\n",
    "test_x = pd.read_csv(\"test_X.csv\")"
   ]
  },
  {
   "cell_type": "code",
   "execution_count": 3,
   "id": "ddc3a604",
   "metadata": {
    "colab": {
     "base_uri": "https://localhost:8080/"
    },
    "executionInfo": {
     "elapsed": 3,
     "status": "ok",
     "timestamp": 1699815985281,
     "user": {
      "displayName": "Anqi Wu",
      "userId": "10543324134832573727"
     },
     "user_tz": 300
    },
    "id": "ddc3a604",
    "outputId": "438c6893-7b2e-40d6-b0da-759c5660f13e"
   },
   "outputs": [
    {
     "data": {
      "text/plain": [
       "(       Brightness_Class     Id\n",
       " 0                     0  11328\n",
       " 1                     0   5781\n",
       " 2                     0  13681\n",
       " 3                     0  30804\n",
       " 4                     0  30813\n",
       " ...                 ...    ...\n",
       " 33024                 0   7024\n",
       " 33025                 0  14012\n",
       " 33026                 0   4140\n",
       " 33027                 1  15193\n",
       " 33028                 1  30255\n",
       " \n",
       " [33029 rows x 2 columns],\n",
       "                                     CunstructedAASeq_cln     Id\n",
       " 0      SKGEELFTGVVPILVELDGDVNGHKFSVSGEGEGDATYGKLTLKFI...  11328\n",
       " 1      SKGEELFTGVVPILVELDGDVNGHKFSVSGEGEGDATYGKLTLKFI...   5781\n",
       " 2      SKGEELFTGVVPILVELDGDVNGHKFSVSGEGEGDATYGKLTLKFI...  13681\n",
       " 3      SKGEELFTGVVPILVELDGDVNGHKFSVSGEGEGDATYGKLTLKFI...  30804\n",
       " 4      SKGEELFTGVVPILVELDGDVNGHTFSVSGEGEGDATYGELTLKFI...  30813\n",
       " ...                                                  ...    ...\n",
       " 33024  SKGEELFTGVVPILVELDGDVNGHKFSVSGEGEGDATYGKLTLKFI...   7024\n",
       " 33025  SKGEELFTGVVPTLVELDGDVNGHKFSVSGEGAGDATYSKLTLKFI...  14012\n",
       " 33026  SKGEELFTGVVPVLVELDGDVNGHKFSVSGEGEGDATYGKLTLKLI...   4140\n",
       " 33027  SKGEELFTGVVPILVELDGDVNGHKFSVSGEGEGDATYGKLTLKFI...  15193\n",
       " 33028  SKGEELFTGVVPILVELDGDVNGHKFSVSGEGEGDATYGKLTLKFI...  30255\n",
       " \n",
       " [33029 rows x 2 columns])"
      ]
     },
     "execution_count": 3,
     "metadata": {},
     "output_type": "execute_result"
    }
   ],
   "source": [
    "train_y,train_x"
   ]
  },
  {
   "cell_type": "code",
   "execution_count": 4,
   "id": "9bc37634",
   "metadata": {
    "colab": {
     "base_uri": "https://localhost:8080/"
    },
    "executionInfo": {
     "elapsed": 3,
     "status": "ok",
     "timestamp": 1699815986210,
     "user": {
      "displayName": "Anqi Wu",
      "userId": "10543324134832573727"
     },
     "user_tz": 300
    },
    "id": "9bc37634",
    "outputId": "03b6653b-261d-4d0d-946e-be902182b5a1"
   },
   "outputs": [
    {
     "data": {
      "text/plain": [
       "(array([237, 225]), array([237]))"
      ]
     },
     "execution_count": 4,
     "metadata": {},
     "output_type": "execute_result"
    }
   ],
   "source": [
    "unique_lengths_train = train_x['CunstructedAASeq_cln'].apply(len).unique()\n",
    "unique_lengths_test = test_x['CunstructedAASeq_cln'].apply(len).unique()\n",
    "unique_lengths_train, unique_lengths_test"
   ]
  },
  {
   "cell_type": "markdown",
   "id": "12a803a0",
   "metadata": {
    "id": "12a803a0"
   },
   "source": [
    "### Since the test set only has sequences with length 237, I will remove the sequences with length 225 from the train set so that the prediction is more accurate:"
   ]
  },
  {
   "cell_type": "code",
   "execution_count": null,
   "metadata": {},
   "outputs": [],
   "source": []
  },
  {
   "cell_type": "markdown",
   "metadata": {},
   "source": []
  },
  {
   "cell_type": "code",
   "execution_count": 5,
   "id": "16ab8d53",
   "metadata": {
    "executionInfo": {
     "elapsed": 2,
     "status": "ok",
     "timestamp": 1699815986210,
     "user": {
      "displayName": "Anqi Wu",
      "userId": "10543324134832573727"
     },
     "user_tz": 300
    },
    "id": "16ab8d53"
   },
   "outputs": [],
   "source": [
    "# Remove sequences of length 225 from train_x\n",
    "train_x1 = train_x[train_x['CunstructedAASeq_cln'].apply(len) != 225].reset_index(drop=True)\n",
    "\n",
    "# Find the IDs of the remaining rows\n",
    "remaining_ids = train_x1['Id']\n",
    "\n",
    "# Remove corresponding rows in train_y\n",
    "train_y1 = train_y[train_y['Id'].isin(remaining_ids)].reset_index(drop=True)"
   ]
  },
  {
   "cell_type": "code",
   "execution_count": 6,
   "id": "d683f7d2",
   "metadata": {
    "executionInfo": {
     "elapsed": 137,
     "status": "ok",
     "timestamp": 1699815986346,
     "user": {
      "displayName": "Anqi Wu",
      "userId": "10543324134832573727"
     },
     "user_tz": 300
    },
    "id": "d683f7d2"
   },
   "outputs": [],
   "source": [
    "df = pd.merge(train_x1, train_y1, on='Id')"
   ]
  },
  {
   "cell_type": "code",
   "execution_count": 7,
   "id": "d2c15ba7",
   "metadata": {
    "colab": {
     "base_uri": "https://localhost:8080/"
    },
    "executionInfo": {
     "elapsed": 5,
     "status": "ok",
     "timestamp": 1699815986346,
     "user": {
      "displayName": "Anqi Wu",
      "userId": "10543324134832573727"
     },
     "user_tz": 300
    },
    "id": "d2c15ba7",
    "outputId": "bfbe0821-237f-45d0-c978-ea691c79437d"
   },
   "outputs": [
    {
     "name": "stdout",
     "output_type": "stream",
     "text": [
      "0    18948\n",
      "1    12081\n",
      "Name: Brightness_Class, dtype: int64\n",
      "brightness_rate: 1.5684132108269182\n"
     ]
    }
   ],
   "source": [
    "unique_brightness_counts = df['Brightness_Class'].value_counts()\n",
    "print(unique_brightness_counts)\n",
    "brightness_rate = 18948/12081\n",
    "print(\"brightness_rate: {}\".format(brightness_rate))\n"
   ]
  },
  {
   "cell_type": "code",
   "execution_count": 8,
   "id": "9e83c7b8",
   "metadata": {
    "colab": {
     "base_uri": "https://localhost:8080/",
     "height": 0
    },
    "executionInfo": {
     "elapsed": 6,
     "status": "ok",
     "timestamp": 1699815986347,
     "user": {
      "displayName": "Anqi Wu",
      "userId": "10543324134832573727"
     },
     "user_tz": 300
    },
    "id": "9e83c7b8",
    "outputId": "346934bc-cfc2-4434-a88b-49d2e89d709b"
   },
   "outputs": [
    {
     "data": {
      "text/html": [
       "<div>\n",
       "<style scoped>\n",
       "    .dataframe tbody tr th:only-of-type {\n",
       "        vertical-align: middle;\n",
       "    }\n",
       "\n",
       "    .dataframe tbody tr th {\n",
       "        vertical-align: top;\n",
       "    }\n",
       "\n",
       "    .dataframe thead th {\n",
       "        text-align: right;\n",
       "    }\n",
       "</style>\n",
       "<table border=\"1\" class=\"dataframe\">\n",
       "  <thead>\n",
       "    <tr style=\"text-align: right;\">\n",
       "      <th></th>\n",
       "      <th>Sequence</th>\n",
       "      <th>Duplicate_Count</th>\n",
       "    </tr>\n",
       "  </thead>\n",
       "  <tbody>\n",
       "  </tbody>\n",
       "</table>\n",
       "</div>"
      ],
      "text/plain": [
       "Empty DataFrame\n",
       "Columns: [Sequence, Duplicate_Count]\n",
       "Index: []"
      ]
     },
     "execution_count": 8,
     "metadata": {},
     "output_type": "execute_result"
    }
   ],
   "source": [
    "#checking for duplicates\n",
    "duplicate_counts = df['CunstructedAASeq_cln'].value_counts()\n",
    "\n",
    "duplicates_with_counts = duplicate_counts[duplicate_counts > 1].reset_index()\n",
    "duplicates_with_counts.columns = ['Sequence', 'Duplicate_Count']\n",
    "\n",
    "duplicates_with_counts  # Show the first few entries"
   ]
  },
  {
   "cell_type": "markdown",
   "id": "d89e5c23",
   "metadata": {
    "id": "d89e5c23"
   },
   "source": [
    "### Checking if there is any letters that are common across the entire sequence, and get their indices:"
   ]
  },
  {
   "cell_type": "code",
   "execution_count": 9,
   "id": "73d4f512",
   "metadata": {
    "colab": {
     "base_uri": "https://localhost:8080/"
    },
    "executionInfo": {
     "elapsed": 4820,
     "status": "ok",
     "timestamp": 1699815991162,
     "user": {
      "displayName": "Anqi Wu",
      "userId": "10543324134832573727"
     },
     "user_tz": 300
    },
    "id": "73d4f512",
    "outputId": "4853b415-58c3-4959-8f58-d385ff865f92"
   },
   "outputs": [
    {
     "name": "stdout",
     "output_type": "stream",
     "text": [
      "Indices to Remove: [0, 117, 118, 236]\n",
      "brightness = 0 indices in common for length 237: [0, 117, 118, 236]\n",
      "brightness = 1 indices in common for length 237: [0, 29, 31, 38, 55, 64, 65, 89, 94, 117, 118, 181, 236]\n"
     ]
    }
   ],
   "source": [
    "def extract_sequences(df):\n",
    "    # Extracting all sequences\n",
    "    all_sequences = df['CunstructedAASeq_cln'].tolist()\n",
    "    # Extracting sequences for brightness class 0\n",
    "    zero_df = df[df['Brightness_Class'] == 0]\n",
    "    zero_sequences = zero_df['CunstructedAASeq_cln'].tolist()\n",
    "    # Extracting sequences for brightness class 1\n",
    "    one_df = df[df['Brightness_Class'] == 1]\n",
    "    one_sequences = one_df['CunstructedAASeq_cln'].tolist()\n",
    "    return all_sequences, zero_sequences, one_sequences\n",
    "\n",
    "# Applying the function to df\n",
    "df_sequences, zero_sequences, one_sequences = extract_sequences(df)\n",
    "\n",
    "# Function to calculate character counts and find indices with same character\n",
    "def analyze_sequences(sequence_length, sequences):\n",
    "    char_counts = []  # List to store the counts for each index\n",
    "    remove_index = []  # List to store indices where all characters are the same\n",
    "\n",
    "    for j in range(sequence_length):  # Iterate over each character index\n",
    "        char_dict = {}  # Dictionary to count characters at the current index\n",
    "        for seq in sequences:\n",
    "            if j < len(seq):\n",
    "                char = seq[j]\n",
    "                char_dict[char] = char_dict.get(char, 0) + 1\n",
    "\n",
    "        # Convert dictionary to list of [character, count] pairs and append\n",
    "        char_counts.append([[k, v] for k, v in char_dict.items()])\n",
    "\n",
    "        # Check for indices with only one unique character\n",
    "        if len(char_dict) == 1:\n",
    "            remove_index.append(j)\n",
    "    return char_counts, remove_index\n",
    "\n",
    "def process_sequences(length, all_sequences, zero_sequences, one_sequences):\n",
    "    # Extract sequences for the given length\n",
    "    char_counts_all, remove_index_all = analyze_sequences(length, all_sequences)\n",
    "\n",
    "    print(\"Indices to Remove:\", remove_index_all)\n",
    "    char_counts_0, remove_index_0 = analyze_sequences(length, zero_sequences)\n",
    "    print(f\"brightness = 0 indices in common for length {length}:\", remove_index_0)\n",
    "    char_counts_1, remove_index_1 = analyze_sequences(length, one_sequences)\n",
    "    print(f\"brightness = 1 indices in common for length {length}:\", remove_index_1)\n",
    "    return char_counts_all, char_counts_0, char_counts_1\n",
    "\n",
    "# Applying the function to sequence lengths 237 and 225\n",
    "char_counts, char_counts_0, char_counts_1 = process_sequences(237, df_sequences, zero_sequences, one_sequences)\n",
    "#char_counts_x stores the occurence of the unique letter at each index\n"
   ]
  },
  {
   "cell_type": "code",
   "execution_count": 10,
   "id": "4facd0ef",
   "metadata": {
    "colab": {
     "base_uri": "https://localhost:8080/",
     "height": 0
    },
    "executionInfo": {
     "elapsed": 1990,
     "status": "ok",
     "timestamp": 1699815993137,
     "user": {
      "displayName": "Anqi Wu",
      "userId": "10543324134832573727"
     },
     "user_tz": 300
    },
    "id": "4facd0ef",
    "outputId": "b34b0147-c31e-459c-8b82-ff2fdb0383bd"
   },
   "outputs": [
    {
     "data": {
      "text/html": [
       "<div>\n",
       "<style scoped>\n",
       "    .dataframe tbody tr th:only-of-type {\n",
       "        vertical-align: middle;\n",
       "    }\n",
       "\n",
       "    .dataframe tbody tr th {\n",
       "        vertical-align: top;\n",
       "    }\n",
       "\n",
       "    .dataframe thead th {\n",
       "        text-align: right;\n",
       "    }\n",
       "</style>\n",
       "<table border=\"1\" class=\"dataframe\">\n",
       "  <thead>\n",
       "    <tr style=\"text-align: right;\">\n",
       "      <th></th>\n",
       "      <th>CunstructedAASeq_cln</th>\n",
       "      <th>Id</th>\n",
       "    </tr>\n",
       "  </thead>\n",
       "  <tbody>\n",
       "    <tr>\n",
       "      <th>0</th>\n",
       "      <td>KGEELFTGVVPILVELDGDVNGHKFSVSGEGEGDATYGKLTLKFIS...</td>\n",
       "      <td>11328</td>\n",
       "    </tr>\n",
       "    <tr>\n",
       "      <th>1</th>\n",
       "      <td>KGEELFTGVVPILVELDGDVNGHKFSVSGEGEGDATYGKLTLKFIC...</td>\n",
       "      <td>5781</td>\n",
       "    </tr>\n",
       "    <tr>\n",
       "      <th>2</th>\n",
       "      <td>KGEELFTGVVPILVELDGDVNGHKFSVSGEGEGDATYGKLTLKFIR...</td>\n",
       "      <td>13681</td>\n",
       "    </tr>\n",
       "    <tr>\n",
       "      <th>3</th>\n",
       "      <td>KGEELFTGVVPILVELDGDVNGHKFSVSGEGEGDATYGKLTLKFIC...</td>\n",
       "      <td>30804</td>\n",
       "    </tr>\n",
       "    <tr>\n",
       "      <th>4</th>\n",
       "      <td>KGEELFTGVVPILVELDGDVNGHTFSVSGEGEGDATYGELTLKFIC...</td>\n",
       "      <td>30813</td>\n",
       "    </tr>\n",
       "    <tr>\n",
       "      <th>...</th>\n",
       "      <td>...</td>\n",
       "      <td>...</td>\n",
       "    </tr>\n",
       "    <tr>\n",
       "      <th>31024</th>\n",
       "      <td>KGEELFTGVVPILVELDGDVNGHKFSVSGEGEGDATYGKLTLKFIC...</td>\n",
       "      <td>7024</td>\n",
       "    </tr>\n",
       "    <tr>\n",
       "      <th>31025</th>\n",
       "      <td>KGEELFTGVVPTLVELDGDVNGHKFSVSGEGAGDATYSKLTLKFIC...</td>\n",
       "      <td>14012</td>\n",
       "    </tr>\n",
       "    <tr>\n",
       "      <th>31026</th>\n",
       "      <td>KGEELFTGVVPVLVELDGDVNGHKFSVSGEGEGDATYGKLTLKLIC...</td>\n",
       "      <td>4140</td>\n",
       "    </tr>\n",
       "    <tr>\n",
       "      <th>31027</th>\n",
       "      <td>KGEELFTGVVPILVELDGDVNGHKFSVSGEGEGDATYGKLTLKFIC...</td>\n",
       "      <td>15193</td>\n",
       "    </tr>\n",
       "    <tr>\n",
       "      <th>31028</th>\n",
       "      <td>KGEELFTGVVPILVELDGDVNGHKFSVSGEGEGDATYGKLTLKFIC...</td>\n",
       "      <td>30255</td>\n",
       "    </tr>\n",
       "  </tbody>\n",
       "</table>\n",
       "<p>31029 rows × 2 columns</p>\n",
       "</div>"
      ],
      "text/plain": [
       "                                    CunstructedAASeq_cln     Id\n",
       "0      KGEELFTGVVPILVELDGDVNGHKFSVSGEGEGDATYGKLTLKFIS...  11328\n",
       "1      KGEELFTGVVPILVELDGDVNGHKFSVSGEGEGDATYGKLTLKFIC...   5781\n",
       "2      KGEELFTGVVPILVELDGDVNGHKFSVSGEGEGDATYGKLTLKFIR...  13681\n",
       "3      KGEELFTGVVPILVELDGDVNGHKFSVSGEGEGDATYGKLTLKFIC...  30804\n",
       "4      KGEELFTGVVPILVELDGDVNGHTFSVSGEGEGDATYGELTLKFIC...  30813\n",
       "...                                                  ...    ...\n",
       "31024  KGEELFTGVVPILVELDGDVNGHKFSVSGEGEGDATYGKLTLKFIC...   7024\n",
       "31025  KGEELFTGVVPTLVELDGDVNGHKFSVSGEGAGDATYSKLTLKFIC...  14012\n",
       "31026  KGEELFTGVVPVLVELDGDVNGHKFSVSGEGEGDATYGKLTLKLIC...   4140\n",
       "31027  KGEELFTGVVPILVELDGDVNGHKFSVSGEGEGDATYGKLTLKFIC...  15193\n",
       "31028  KGEELFTGVVPILVELDGDVNGHKFSVSGEGEGDATYGKLTLKFIC...  30255\n",
       "\n",
       "[31029 rows x 2 columns]"
      ]
     },
     "execution_count": 10,
     "metadata": {},
     "output_type": "execute_result"
    }
   ],
   "source": [
    "indices_to_remove = [0, 117, 118, 236]\n",
    "# Removing characters at specified indices\n",
    "train_x1['CunstructedAASeq_cln'] = train_x1['CunstructedAASeq_cln'].apply(\n",
    "    lambda s: ''.join([char for idx, char in enumerate(s) if idx not in indices_to_remove])\n",
    ")\n",
    "train_x1"
   ]
  },
  {
   "cell_type": "code",
   "execution_count": 11,
   "id": "885a09fd",
   "metadata": {
    "colab": {
     "base_uri": "https://localhost:8080/",
     "height": 0
    },
    "executionInfo": {
     "elapsed": 1193,
     "status": "ok",
     "timestamp": 1699815994328,
     "user": {
      "displayName": "Anqi Wu",
      "userId": "10543324134832573727"
     },
     "user_tz": 300
    },
    "id": "885a09fd",
    "outputId": "f5cbb636-77f9-4397-9d1c-526175bc7efd"
   },
   "outputs": [
    {
     "data": {
      "text/html": [
       "<div>\n",
       "<style scoped>\n",
       "    .dataframe tbody tr th:only-of-type {\n",
       "        vertical-align: middle;\n",
       "    }\n",
       "\n",
       "    .dataframe tbody tr th {\n",
       "        vertical-align: top;\n",
       "    }\n",
       "\n",
       "    .dataframe thead th {\n",
       "        text-align: right;\n",
       "    }\n",
       "</style>\n",
       "<table border=\"1\" class=\"dataframe\">\n",
       "  <thead>\n",
       "    <tr style=\"text-align: right;\">\n",
       "      <th></th>\n",
       "      <th>CunstructedAASeq_cln</th>\n",
       "      <th>Id</th>\n",
       "    </tr>\n",
       "  </thead>\n",
       "  <tbody>\n",
       "    <tr>\n",
       "      <th>0</th>\n",
       "      <td>KGEELFTGVVPILVELDGDVNGHKFSVSGEGEGDATYGKLTLKFIC...</td>\n",
       "      <td>50579</td>\n",
       "    </tr>\n",
       "    <tr>\n",
       "      <th>1</th>\n",
       "      <td>KGEELFTGVVPILVELDGDVSGHKFSVSGEGEGDATYGKLTLKFIC...</td>\n",
       "      <td>37987</td>\n",
       "    </tr>\n",
       "    <tr>\n",
       "      <th>2</th>\n",
       "      <td>KGEELFTGVVPILVELDGDVNGHKFSVSGEGEGDATYGKLTLKFIC...</td>\n",
       "      <td>53977</td>\n",
       "    </tr>\n",
       "    <tr>\n",
       "      <th>3</th>\n",
       "      <td>KGEELFTGVVPILVELDGDVNGHKLSVSGEGEGDATYGKLTLKFIC...</td>\n",
       "      <td>10677</td>\n",
       "    </tr>\n",
       "    <tr>\n",
       "      <th>4</th>\n",
       "      <td>KGEELFTGVVPILVELDGDVNGHKFSVSGEGEGDATYGKLTLKFIC...</td>\n",
       "      <td>35653</td>\n",
       "    </tr>\n",
       "    <tr>\n",
       "      <th>...</th>\n",
       "      <td>...</td>\n",
       "      <td>...</td>\n",
       "    </tr>\n",
       "    <tr>\n",
       "      <th>20681</th>\n",
       "      <td>KGEELFTGVVPILVELDGDVNGHKFSVSGEGEGDATYGKLTLKFIC...</td>\n",
       "      <td>35750</td>\n",
       "    </tr>\n",
       "    <tr>\n",
       "      <th>20682</th>\n",
       "      <td>KGEELFTGVVPILVELDGDVNGHKFSVSGEGEGDATYGKLTLKFIC...</td>\n",
       "      <td>53940</td>\n",
       "    </tr>\n",
       "    <tr>\n",
       "      <th>20683</th>\n",
       "      <td>KGEELFTGVVPILVELDGDVNGHKFSVSGEGEGDATYGKLTLKFIC...</td>\n",
       "      <td>14948</td>\n",
       "    </tr>\n",
       "    <tr>\n",
       "      <th>20684</th>\n",
       "      <td>KGEELFTRVVPILVGLDGDVNGHKFSVSGEGEGDATYGKLTQKFIC...</td>\n",
       "      <td>17040</td>\n",
       "    </tr>\n",
       "    <tr>\n",
       "      <th>20685</th>\n",
       "      <td>KGEELFTGVVPILVELDGDVNGHEFSVSGEGEGDATYGKLTLKFIC...</td>\n",
       "      <td>25919</td>\n",
       "    </tr>\n",
       "  </tbody>\n",
       "</table>\n",
       "<p>20686 rows × 2 columns</p>\n",
       "</div>"
      ],
      "text/plain": [
       "                                    CunstructedAASeq_cln     Id\n",
       "0      KGEELFTGVVPILVELDGDVNGHKFSVSGEGEGDATYGKLTLKFIC...  50579\n",
       "1      KGEELFTGVVPILVELDGDVSGHKFSVSGEGEGDATYGKLTLKFIC...  37987\n",
       "2      KGEELFTGVVPILVELDGDVNGHKFSVSGEGEGDATYGKLTLKFIC...  53977\n",
       "3      KGEELFTGVVPILVELDGDVNGHKLSVSGEGEGDATYGKLTLKFIC...  10677\n",
       "4      KGEELFTGVVPILVELDGDVNGHKFSVSGEGEGDATYGKLTLKFIC...  35653\n",
       "...                                                  ...    ...\n",
       "20681  KGEELFTGVVPILVELDGDVNGHKFSVSGEGEGDATYGKLTLKFIC...  35750\n",
       "20682  KGEELFTGVVPILVELDGDVNGHKFSVSGEGEGDATYGKLTLKFIC...  53940\n",
       "20683  KGEELFTGVVPILVELDGDVNGHKFSVSGEGEGDATYGKLTLKFIC...  14948\n",
       "20684  KGEELFTRVVPILVGLDGDVNGHKFSVSGEGEGDATYGKLTQKFIC...  17040\n",
       "20685  KGEELFTGVVPILVELDGDVNGHEFSVSGEGEGDATYGKLTLKFIC...  25919\n",
       "\n",
       "[20686 rows x 2 columns]"
      ]
     },
     "execution_count": 11,
     "metadata": {},
     "output_type": "execute_result"
    }
   ],
   "source": [
    "test_x['CunstructedAASeq_cln'] = test_x['CunstructedAASeq_cln'].apply(\n",
    "    lambda s: ''.join([char for idx, char in enumerate(s) if idx not in indices_to_remove])\n",
    ")\n",
    "test_x"
   ]
  },
  {
   "cell_type": "markdown",
   "id": "7425bfaa",
   "metadata": {
    "id": "7425bfaa"
   },
   "source": [
    "### Find out the letters with the most occurence at each index, and list them out."
   ]
  },
  {
   "cell_type": "code",
   "execution_count": 71,
   "id": "282255d3",
   "metadata": {
    "executionInfo": {
     "elapsed": 5,
     "status": "ok",
     "timestamp": 1699815994328,
     "user": {
      "displayName": "Anqi Wu",
      "userId": "10543324134832573727"
     },
     "user_tz": 300
    },
    "id": "282255d3"
   },
   "outputs": [],
   "source": [
    "# Removing elements at specified indices\n",
    "char_counts1 = [char for idx, char in enumerate(char_counts) if idx not in indices_to_remove]"
   ]
  },
  {
   "cell_type": "code",
   "execution_count": 72,
   "id": "7478bead",
   "metadata": {
    "colab": {
     "base_uri": "https://localhost:8080/",
     "height": 0
    },
    "executionInfo": {
     "elapsed": 4,
     "status": "ok",
     "timestamp": 1699815994328,
     "user": {
      "displayName": "Anqi Wu",
      "userId": "10543324134832573727"
     },
     "user_tz": 300
    },
    "id": "7478bead",
    "outputId": "d251a1af-4652-4e3a-ae9d-7c5df30b0948"
   },
   "outputs": [
    {
     "data": {
      "text/html": [
       "\n",
       "  <div id=\"df-13e1f045-c3d1-4ee1-bad6-3d720334a4a7\" class=\"colab-df-container\">\n",
       "    <div>\n",
       "<style scoped>\n",
       "    .dataframe tbody tr th:only-of-type {\n",
       "        vertical-align: middle;\n",
       "    }\n",
       "\n",
       "    .dataframe tbody tr th {\n",
       "        vertical-align: top;\n",
       "    }\n",
       "\n",
       "    .dataframe thead th {\n",
       "        text-align: right;\n",
       "    }\n",
       "</style>\n",
       "<table border=\"1\" class=\"dataframe\">\n",
       "  <thead>\n",
       "    <tr style=\"text-align: right;\">\n",
       "      <th></th>\n",
       "      <th>Letter</th>\n",
       "      <th>Count</th>\n",
       "    </tr>\n",
       "  </thead>\n",
       "  <tbody>\n",
       "    <tr>\n",
       "      <th>0</th>\n",
       "      <td>K</td>\n",
       "      <td>30278</td>\n",
       "    </tr>\n",
       "    <tr>\n",
       "      <th>1</th>\n",
       "      <td>G</td>\n",
       "      <td>30918</td>\n",
       "    </tr>\n",
       "    <tr>\n",
       "      <th>2</th>\n",
       "      <td>E</td>\n",
       "      <td>30430</td>\n",
       "    </tr>\n",
       "    <tr>\n",
       "      <th>3</th>\n",
       "      <td>E</td>\n",
       "      <td>30563</td>\n",
       "    </tr>\n",
       "    <tr>\n",
       "      <th>4</th>\n",
       "      <td>L</td>\n",
       "      <td>30544</td>\n",
       "    </tr>\n",
       "  </tbody>\n",
       "</table>\n",
       "</div>\n",
       "    <div class=\"colab-df-buttons\">\n",
       "\n",
       "  <div class=\"colab-df-container\">\n",
       "    <button class=\"colab-df-convert\" onclick=\"convertToInteractive('df-13e1f045-c3d1-4ee1-bad6-3d720334a4a7')\"\n",
       "            title=\"Convert this dataframe to an interactive table.\"\n",
       "            style=\"display:none;\">\n",
       "\n",
       "  <svg xmlns=\"http://www.w3.org/2000/svg\" height=\"24px\" viewBox=\"0 -960 960 960\">\n",
       "    <path d=\"M120-120v-720h720v720H120Zm60-500h600v-160H180v160Zm220 220h160v-160H400v160Zm0 220h160v-160H400v160ZM180-400h160v-160H180v160Zm440 0h160v-160H620v160ZM180-180h160v-160H180v160Zm440 0h160v-160H620v160Z\"/>\n",
       "  </svg>\n",
       "    </button>\n",
       "\n",
       "  <style>\n",
       "    .colab-df-container {\n",
       "      display:flex;\n",
       "      gap: 12px;\n",
       "    }\n",
       "\n",
       "    .colab-df-convert {\n",
       "      background-color: #E8F0FE;\n",
       "      border: none;\n",
       "      border-radius: 50%;\n",
       "      cursor: pointer;\n",
       "      display: none;\n",
       "      fill: #1967D2;\n",
       "      height: 32px;\n",
       "      padding: 0 0 0 0;\n",
       "      width: 32px;\n",
       "    }\n",
       "\n",
       "    .colab-df-convert:hover {\n",
       "      background-color: #E2EBFA;\n",
       "      box-shadow: 0px 1px 2px rgba(60, 64, 67, 0.3), 0px 1px 3px 1px rgba(60, 64, 67, 0.15);\n",
       "      fill: #174EA6;\n",
       "    }\n",
       "\n",
       "    .colab-df-buttons div {\n",
       "      margin-bottom: 4px;\n",
       "    }\n",
       "\n",
       "    [theme=dark] .colab-df-convert {\n",
       "      background-color: #3B4455;\n",
       "      fill: #D2E3FC;\n",
       "    }\n",
       "\n",
       "    [theme=dark] .colab-df-convert:hover {\n",
       "      background-color: #434B5C;\n",
       "      box-shadow: 0px 1px 3px 1px rgba(0, 0, 0, 0.15);\n",
       "      filter: drop-shadow(0px 1px 2px rgba(0, 0, 0, 0.3));\n",
       "      fill: #FFFFFF;\n",
       "    }\n",
       "  </style>\n",
       "\n",
       "    <script>\n",
       "      const buttonEl =\n",
       "        document.querySelector('#df-13e1f045-c3d1-4ee1-bad6-3d720334a4a7 button.colab-df-convert');\n",
       "      buttonEl.style.display =\n",
       "        google.colab.kernel.accessAllowed ? 'block' : 'none';\n",
       "\n",
       "      async function convertToInteractive(key) {\n",
       "        const element = document.querySelector('#df-13e1f045-c3d1-4ee1-bad6-3d720334a4a7');\n",
       "        const dataTable =\n",
       "          await google.colab.kernel.invokeFunction('convertToInteractive',\n",
       "                                                    [key], {});\n",
       "        if (!dataTable) return;\n",
       "\n",
       "        const docLinkHtml = 'Like what you see? Visit the ' +\n",
       "          '<a target=\"_blank\" href=https://colab.research.google.com/notebooks/data_table.ipynb>data table notebook</a>'\n",
       "          + ' to learn more about interactive tables.';\n",
       "        element.innerHTML = '';\n",
       "        dataTable['output_type'] = 'display_data';\n",
       "        await google.colab.output.renderOutput(dataTable, element);\n",
       "        const docLink = document.createElement('div');\n",
       "        docLink.innerHTML = docLinkHtml;\n",
       "        element.appendChild(docLink);\n",
       "      }\n",
       "    </script>\n",
       "  </div>\n",
       "\n",
       "\n",
       "<div id=\"df-72bc041c-10cc-4305-ac64-9b38ae2e0f25\">\n",
       "  <button class=\"colab-df-quickchart\" onclick=\"quickchart('df-72bc041c-10cc-4305-ac64-9b38ae2e0f25')\"\n",
       "            title=\"Suggest charts\"\n",
       "            style=\"display:none;\">\n",
       "\n",
       "<svg xmlns=\"http://www.w3.org/2000/svg\" height=\"24px\"viewBox=\"0 0 24 24\"\n",
       "     width=\"24px\">\n",
       "    <g>\n",
       "        <path d=\"M19 3H5c-1.1 0-2 .9-2 2v14c0 1.1.9 2 2 2h14c1.1 0 2-.9 2-2V5c0-1.1-.9-2-2-2zM9 17H7v-7h2v7zm4 0h-2V7h2v10zm4 0h-2v-4h2v4z\"/>\n",
       "    </g>\n",
       "</svg>\n",
       "  </button>\n",
       "\n",
       "<style>\n",
       "  .colab-df-quickchart {\n",
       "      --bg-color: #E8F0FE;\n",
       "      --fill-color: #1967D2;\n",
       "      --hover-bg-color: #E2EBFA;\n",
       "      --hover-fill-color: #174EA6;\n",
       "      --disabled-fill-color: #AAA;\n",
       "      --disabled-bg-color: #DDD;\n",
       "  }\n",
       "\n",
       "  [theme=dark] .colab-df-quickchart {\n",
       "      --bg-color: #3B4455;\n",
       "      --fill-color: #D2E3FC;\n",
       "      --hover-bg-color: #434B5C;\n",
       "      --hover-fill-color: #FFFFFF;\n",
       "      --disabled-bg-color: #3B4455;\n",
       "      --disabled-fill-color: #666;\n",
       "  }\n",
       "\n",
       "  .colab-df-quickchart {\n",
       "    background-color: var(--bg-color);\n",
       "    border: none;\n",
       "    border-radius: 50%;\n",
       "    cursor: pointer;\n",
       "    display: none;\n",
       "    fill: var(--fill-color);\n",
       "    height: 32px;\n",
       "    padding: 0;\n",
       "    width: 32px;\n",
       "  }\n",
       "\n",
       "  .colab-df-quickchart:hover {\n",
       "    background-color: var(--hover-bg-color);\n",
       "    box-shadow: 0 1px 2px rgba(60, 64, 67, 0.3), 0 1px 3px 1px rgba(60, 64, 67, 0.15);\n",
       "    fill: var(--button-hover-fill-color);\n",
       "  }\n",
       "\n",
       "  .colab-df-quickchart-complete:disabled,\n",
       "  .colab-df-quickchart-complete:disabled:hover {\n",
       "    background-color: var(--disabled-bg-color);\n",
       "    fill: var(--disabled-fill-color);\n",
       "    box-shadow: none;\n",
       "  }\n",
       "\n",
       "  .colab-df-spinner {\n",
       "    border: 2px solid var(--fill-color);\n",
       "    border-color: transparent;\n",
       "    border-bottom-color: var(--fill-color);\n",
       "    animation:\n",
       "      spin 1s steps(1) infinite;\n",
       "  }\n",
       "\n",
       "  @keyframes spin {\n",
       "    0% {\n",
       "      border-color: transparent;\n",
       "      border-bottom-color: var(--fill-color);\n",
       "      border-left-color: var(--fill-color);\n",
       "    }\n",
       "    20% {\n",
       "      border-color: transparent;\n",
       "      border-left-color: var(--fill-color);\n",
       "      border-top-color: var(--fill-color);\n",
       "    }\n",
       "    30% {\n",
       "      border-color: transparent;\n",
       "      border-left-color: var(--fill-color);\n",
       "      border-top-color: var(--fill-color);\n",
       "      border-right-color: var(--fill-color);\n",
       "    }\n",
       "    40% {\n",
       "      border-color: transparent;\n",
       "      border-right-color: var(--fill-color);\n",
       "      border-top-color: var(--fill-color);\n",
       "    }\n",
       "    60% {\n",
       "      border-color: transparent;\n",
       "      border-right-color: var(--fill-color);\n",
       "    }\n",
       "    80% {\n",
       "      border-color: transparent;\n",
       "      border-right-color: var(--fill-color);\n",
       "      border-bottom-color: var(--fill-color);\n",
       "    }\n",
       "    90% {\n",
       "      border-color: transparent;\n",
       "      border-bottom-color: var(--fill-color);\n",
       "    }\n",
       "  }\n",
       "</style>\n",
       "\n",
       "  <script>\n",
       "    async function quickchart(key) {\n",
       "      const quickchartButtonEl =\n",
       "        document.querySelector('#' + key + ' button');\n",
       "      quickchartButtonEl.disabled = true;  // To prevent multiple clicks.\n",
       "      quickchartButtonEl.classList.add('colab-df-spinner');\n",
       "      try {\n",
       "        const charts = await google.colab.kernel.invokeFunction(\n",
       "            'suggestCharts', [key], {});\n",
       "      } catch (error) {\n",
       "        console.error('Error during call to suggestCharts:', error);\n",
       "      }\n",
       "      quickchartButtonEl.classList.remove('colab-df-spinner');\n",
       "      quickchartButtonEl.classList.add('colab-df-quickchart-complete');\n",
       "    }\n",
       "    (() => {\n",
       "      let quickchartButtonEl =\n",
       "        document.querySelector('#df-72bc041c-10cc-4305-ac64-9b38ae2e0f25 button');\n",
       "      quickchartButtonEl.style.display =\n",
       "        google.colab.kernel.accessAllowed ? 'block' : 'none';\n",
       "    })();\n",
       "  </script>\n",
       "</div>\n",
       "    </div>\n",
       "  </div>\n"
      ],
      "text/plain": [
       "  Letter  Count\n",
       "0      K  30278\n",
       "1      G  30918\n",
       "2      E  30430\n",
       "3      E  30563\n",
       "4      L  30544"
      ]
     },
     "execution_count": 72,
     "metadata": {},
     "output_type": "execute_result"
    }
   ],
   "source": [
    "# Extracting the letter with the maximum count in each inner list\n",
    "max_counts = [(max(inner_list, key=lambda x: x[1])) for inner_list in char_counts1]\n",
    "\n",
    "# Creating DataFrame\n",
    "pattern = pd.DataFrame(max_counts, columns=['Letter', 'Count'])\n",
    "pattern.head()"
   ]
  },
  {
   "cell_type": "markdown",
   "id": "e376dd55",
   "metadata": {
    "id": "e376dd55"
   },
   "source": [
    "### Observe the sequences behavior based on subsets comparisons:"
   ]
  },
  {
   "cell_type": "code",
   "execution_count": 74,
   "id": "eca3fa28",
   "metadata": {
    "colab": {
     "base_uri": "https://localhost:8080/",
     "height": 0
    },
    "executionInfo": {
     "elapsed": 12249,
     "status": "ok",
     "timestamp": 1699816006692,
     "user": {
      "displayName": "Anqi Wu",
      "userId": "10543324134832573727"
     },
     "user_tz": 300
    },
    "id": "eca3fa28",
    "outputId": "5eccacad-cfca-44bc-f7c0-e61f2984ed46"
   },
   "outputs": [
    {
     "data": {
      "image/png": "[encoded data removed]",
      "text/plain": [
       "<Figure size 1000x600 with 1 Axes>"
      ]
     },
     "metadata": {},
     "output_type": "display_data"
    },
    {
     "data": {
      "image/png": "[encoded data removed]",
      "text/plain": [
       "<Figure size 1000x600 with 1 Axes>"
      ]
     },
     "metadata": {},
     "output_type": "display_data"
    },
    {
     "data": {
      "image/png": "[encoded data removed]",
      "text/plain": [
       "<Figure size 1000x600 with 1 Axes>"
      ]
     },
     "metadata": {},
     "output_type": "display_data"
    }
   ],
   "source": [
    "def plot_and_get_subset_counts(df, letters, subset_length):\n",
    "    # Generate all possible subsets of the given length\n",
    "    subsets = [''.join(letters[i:i+subset_length]) for i in range(len(letters) - subset_length + 1)]\n",
    "\n",
    "    # Initialize a dictionary to store the counts\n",
    "    subset_counts = {}\n",
    "\n",
    "    # Iterate through each subset\n",
    "    for subset in subsets:\n",
    "        # Count how many sequences in df contain the current subset\n",
    "        count = df['CunstructedAASeq_cln'].apply(lambda seq: subset in seq).sum()\n",
    "        subset_counts[subset] = count\n",
    "\n",
    "    # Plotting\n",
    "    plt.figure(figsize=(10, 6))\n",
    "    plt.plot(range(len(subset_counts)), list(subset_counts.values()), label=f'Count for subset length {subset_length}', marker='o')\n",
    "    plt.yscale('log')\n",
    "    plt.xlim(-5, 237)\n",
    "    plt.xlabel('Subset Index')\n",
    "    plt.ylabel('Counts (Log scale)')\n",
    "    plt.title(f'Plot of Counts of Each Subset (Length {subset_length}) in Sequences')\n",
    "    plt.legend()\n",
    "    plt.show()\n",
    "\n",
    "    return subset_counts\n",
    "\n",
    "# Using a dictionary to store counts for each subset length\n",
    "all_subset_counts = {}\n",
    "\n",
    "subset_lengths = [5, 60, 100]\n",
    "letters = pattern['Letter'].tolist()\n",
    "for length in subset_lengths:\n",
    "    all_subset_counts[length] = plot_and_get_subset_counts(train_x1, letters, length)\n",
    "\n",
    "# Now all_subset_counts contains the counts for each subset length\n",
    "subset_length_5_counts = all_subset_counts[5]"
   ]
  },
  {
   "cell_type": "code",
   "execution_count": 75,
   "id": "b1be109e",
   "metadata": {
    "colab": {
     "base_uri": "https://localhost:8080/"
    },
    "executionInfo": {
     "elapsed": 18,
     "status": "ok",
     "timestamp": 1699816006692,
     "user": {
      "displayName": "Anqi Wu",
      "userId": "10543324134832573727"
     },
     "user_tz": 300
    },
    "id": "b1be109e",
    "outputId": "260fc431-86bb-4a4a-bfcd-591a6833d008"
   },
   "outputs": [
    {
     "data": {
      "text/plain": [
       "{'VPILV': 29163,\n",
       " 'VELDG': 29188,\n",
       " 'LDGDV': 29284,\n",
       " 'VSGEG': 29460,\n",
       " 'GEGEG': 29762,\n",
       " 'GEGDA': 29654,\n",
       " 'PVPWP': 29997,\n",
       " 'PWPTL': 29714,\n",
       " 'TLSYG': 29326,\n",
       " 'RYPDH': 29300,\n",
       " 'AMPEG': 29296,\n",
       " 'PEGYV': 29271,\n",
       " 'GYVQE': 29293,\n",
       " 'TRAEV': 29447,\n",
       " 'GDGPV': 29493,\n",
       " 'PVLLP': 29301}"
      ]
     },
     "execution_count": 75,
     "metadata": {},
     "output_type": "execute_result"
    }
   ],
   "source": [
    "filtered_counts = {subset: count for subset, count in subset_length_5_counts.items() if count > 29000}\n",
    "\n",
    "# Finding local maxima among the filtered counts\n",
    "local_maxima = {}\n",
    "for i, (subset, count) in enumerate(filtered_counts.items()):\n",
    "    # Check if the current count is greater than its neighbors\n",
    "    if i > 0 and i < len(filtered_counts) - 1:\n",
    "        prev_count = list(filtered_counts.values())[i - 1]\n",
    "        next_count = list(filtered_counts.values())[i + 1]\n",
    "        if count > prev_count and count > next_count:\n",
    "            local_maxima[subset] = count\n"
   ]
  },
  {
   "cell_type": "markdown",
   "id": "821a08ad",
   "metadata": {
    "id": "821a08ad"
   },
   "source": [
    "###  The graphs clearly indicate that with increasing subset length, fewer sequences are encompassed. This trend suggests that longer subsets, due to their specific variations, may exclude certain sequences. Consequently, employing shorter subsets appears more rigorous and reduces the risk of overlooking critical letters that could be pivotal in determining the brightness level. This approach ensures a more thorough and inclusive analysis of the sequences."
   ]
  },
  {
   "cell_type": "markdown",
   "id": "41797a0c",
   "metadata": {
    "id": "41797a0c"
   },
   "source": [
    "## Preprocessing of the description data:"
   ]
  },
  {
   "cell_type": "code",
   "execution_count": 80,
   "id": "b866cbca",
   "metadata": {
    "executionInfo": {
     "elapsed": 3,
     "status": "ok",
     "timestamp": 1699816036623,
     "user": {
      "displayName": "Anqi Wu",
      "userId": "10543324134832573727"
     },
     "user_tz": 300
    },
    "id": "b866cbca"
   },
   "outputs": [],
   "source": [
    "T_scale = pd.read_csv(\"T-scale.csv\")\n",
    "DPPS = pd.read_csv(\"DPPS.csv\")\n",
    "MS_WHIM = pd.read_csv(\"MS-WHIM.csv\")\n",
    "Physical = pd.read_csv(\"Physical.csv\")\n",
    "ST_scale = pd.read_csv(\"ST-scale.csv\")\n",
    "VHSE_scale = pd.read_csv(\"VHSE-scale.csv\")\n",
    "Z_scale = pd.read_csv(\"Z-scale.csv\")\n",
    "\n",
    "def process_df(df):\n",
    "    df = df.iloc[1:, 1:]  # Removing the first row and column\n",
    "    new_header = df.iloc[0]  # New header is the first row\n",
    "    df = df[1:]  # Remove the first row\n",
    "    df.columns = new_header  # Set the new header\n",
    "    df.reset_index(drop=True, inplace=True)  # Reset the index\n",
    "    return df\n",
    "\n",
    "# Process each DataFrame\n",
    "T_scale = process_df(T_scale)\n",
    "DPPS = process_df(DPPS)\n",
    "MS_WHIM = process_df(MS_WHIM)\n",
    "Physical = process_df(Physical)\n",
    "ST_scale = process_df(ST_scale)\n",
    "VHSE_scale = process_df(VHSE_scale)\n",
    "Z_scale = process_df(Z_scale)\n"
   ]
  },
  {
   "cell_type": "markdown",
   "id": "v_8JBGm-5KVx",
   "metadata": {
    "id": "v_8JBGm-5KVx"
   },
   "source": [
    "## First time preparing data (don't have to run after the first time to save time)"
   ]
  },
  {
   "cell_type": "markdown",
   "id": "l-xwg6476as2",
   "metadata": {
    "id": "l-xwg6476as2"
   },
   "source": [
    "### Load Descrition csv"
   ]
  },
  {
   "cell_type": "code",
   "execution_count": 87,
   "id": "RT77zJel6YLf",
   "metadata": {
    "executionInfo": {
     "elapsed": 121,
     "status": "ok",
     "timestamp": 1699816612752,
     "user": {
      "displayName": "Anqi Wu",
      "userId": "10543324134832573727"
     },
     "user_tz": 300
    },
    "id": "RT77zJel6YLf"
   },
   "outputs": [],
   "source": [
    "T_scale = pd.read_csv(\"T-scale.csv\")\n",
    "DPPS = pd.read_csv(\"DPPS.csv\")\n",
    "MS_WHIM = pd.read_csv(\"MS-WHIM.csv\")\n",
    "Physical = pd.read_csv(\"Physical.csv\")\n",
    "ST_scale = pd.read_csv(\"ST-scale.csv\")\n",
    "VHSE_scale = pd.read_csv(\"VHSE-scale.csv\")\n",
    "Z_scale = pd.read_csv(\"Z-scale.csv\")\n",
    "\n",
    "def process_df(df):\n",
    "    df = df.iloc[1:, 1:]  # Removing the first row and column\n",
    "    new_header = df.iloc[0]  # New header is the first row\n",
    "    df = df[1:]  # Remove the first row\n",
    "    df.columns = new_header  # Set the new header\n",
    "    df.reset_index(drop=True, inplace=True)  # Reset the index\n",
    "    return df\n",
    "\n",
    "# Process each DataFrame\n",
    "T_scale = process_df(T_scale)\n",
    "DPPS = process_df(DPPS)\n",
    "MS_WHIM = process_df(MS_WHIM)\n",
    "Physical = process_df(Physical)\n",
    "ST_scale = process_df(ST_scale)\n",
    "VHSE_scale = process_df(VHSE_scale)\n",
    "Z_scale = process_df(Z_scale)\n"
   ]
  },
  {
   "cell_type": "markdown",
   "id": "d2915283",
   "metadata": {
    "id": "d2915283"
   },
   "source": [
    "### Attach description data to NON-TRUNCATE train_x1 & test_x1"
   ]
  },
  {
   "cell_type": "code",
   "execution_count": 88,
   "id": "0026b80c",
   "metadata": {
    "executionInfo": {
     "elapsed": 2,
     "status": "ok",
     "timestamp": 1699816612875,
     "user": {
      "displayName": "Anqi Wu",
      "userId": "10543324134832573727"
     },
     "user_tz": 300
    },
    "id": "0026b80c"
   },
   "outputs": [],
   "source": [
    "def extend_df_with_aa_mapping(extend_df, mapping_df, sequence_col_name):\n",
    "    # Prepare a mapping dictionary from mapping_df\n",
    "    mapping_dict = mapping_df.set_index('AA_1').T.to_dict('list')\n",
    "\n",
    "    # Expand the sequences in train_df into separate columns\n",
    "    max_seq_length = extend_df[sequence_col_name].str.len().max()\n",
    "    seq_expanded = extend_df[sequence_col_name].apply(lambda x: pd.Series(list(x))).fillna('')\n",
    "\n",
    "    # Apply the mapping to the expanded DataFrame\n",
    "    mapped_df = seq_expanded.applymap(lambda x: mapping_dict.get(x, [None] * len(mapping_df.columns[1:])))\n",
    "\n",
    "    # Flatten the DataFrame to match the required structure\n",
    "    flattened_df = pd.DataFrame()\n",
    "    for col in mapped_df:\n",
    "        temp_df = pd.DataFrame(mapped_df[col].to_list(), columns=[f'{d}_{col}' for d in mapping_df.columns[1:]])\n",
    "        flattened_df = pd.concat([flattened_df, temp_df], axis=1)\n",
    "\n",
    "    # Concatenate the new columns to the original train_df DataFrame\n",
    "    extend_df = pd.concat([extend_df.reset_index(drop=True), flattened_df], axis=1)\n",
    "\n",
    "    return extend_df"
   ]
  },
  {
   "cell_type": "code",
   "execution_count": 89,
   "id": "12df79cf",
   "metadata": {
    "colab": {
     "base_uri": "https://localhost:8080/"
    },
    "executionInfo": {
     "elapsed": 785473,
     "status": "ok",
     "timestamp": 1699817398347,
     "user": {
      "displayName": "Anqi Wu",
      "userId": "10543324134832573727"
     },
     "user_tz": 300
    },
    "id": "12df79cf",
    "outputId": "85885bfc-3f5f-415f-b9fe-f28b9a0cf7e5"
   },
   "outputs": [
    {
     "name": "stdout",
     "output_type": "stream",
     "text": [
      "hi\n",
      "hi\n",
      "hi\n",
      "hi\n",
      "hi\n",
      "hi\n"
     ]
    }
   ],
   "source": [
    "train_x1_DPPS = extend_df_with_aa_mapping(train_x1, DPPS, 'CunstructedAASeq_cln')\n",
    "test_x1_DPPS = extend_df_with_aa_mapping(test_x, DPPS, 'CunstructedAASeq_cln')\n",
    "print(\"hi\")\n",
    "train_x1_T_scale = extend_df_with_aa_mapping(train_x1, T_scale, 'CunstructedAASeq_cln')\n",
    "test_x1_T_scale = extend_df_with_aa_mapping(test_x, T_scale, 'CunstructedAASeq_cln')\n",
    "print(\"hi\")\n",
    "train_x1_MS_WHIM = extend_df_with_aa_mapping(train_x1, MS_WHIM, 'CunstructedAASeq_cln')\n",
    "test_x1_MS_WHIM = extend_df_with_aa_mapping(test_x, MS_WHIM, 'CunstructedAASeq_cln')\n",
    "print(\"hi\")\n",
    "train_x1_Physical = extend_df_with_aa_mapping(train_x1, Physical, 'CunstructedAASeq_cln')\n",
    "test_x1_Physical = extend_df_with_aa_mapping(test_x, Physical, 'CunstructedAASeq_cln')\n",
    "print(\"hi\")\n",
    "train_x1_ST_scale = extend_df_with_aa_mapping(train_x1, ST_scale, 'CunstructedAASeq_cln')\n",
    "test_x1_ST_scale = extend_df_with_aa_mapping(test_x, ST_scale, 'CunstructedAASeq_cln')\n",
    "print(\"hi\")\n",
    "train_x1_VHSE_scale = extend_df_with_aa_mapping(train_x1, VHSE_scale, 'CunstructedAASeq_cln')\n",
    "test_x1_VHSE_scale = extend_df_with_aa_mapping(test_x, VHSE_scale, 'CunstructedAASeq_cln')\n",
    "print(\"hi\")\n",
    "train_x1_Z_scale = extend_df_with_aa_mapping(train_x1, Z_scale, 'CunstructedAASeq_cln')\n",
    "test_x1_Z_scale = extend_df_with_aa_mapping(test_x, Z_scale, 'CunstructedAASeq_cln')"
   ]
  },
  {
   "cell_type": "markdown",
   "id": "MU-MpS6x5Br2",
   "metadata": {
    "id": "MU-MpS6x5Br2"
   },
   "source": [
    "### Remove non numerical columns"
   ]
  },
  {
   "cell_type": "code",
   "execution_count": 91,
   "id": "cb59d4a1",
   "metadata": {
    "executionInfo": {
     "elapsed": 8713,
     "status": "ok",
     "timestamp": 1699817407055,
     "user": {
      "displayName": "Anqi Wu",
      "userId": "10543324134832573727"
     },
     "user_tz": 300
    },
    "id": "cb59d4a1"
   },
   "outputs": [],
   "source": [
    "def filter_and_drop(df):\n",
    "    dropped_df = df.drop(df.columns[slice(0, 2)], axis=1)\n",
    "    return dropped_df\n",
    "\n",
    "train_DPPS = filter_and_drop(train_x1_DPPS) #log accuracy score = 0.895613780656805\n",
    "test_DPPS = filter_and_drop(test_x1_DPPS)\n",
    "LogisticRegression(C=1.0, solver='liblinear', penalty='l1', max_iter=10000) #0.8966773018788875\n",
    "\n",
    "train_VHSE_scale = filter_and_drop(train_x1_VHSE_scale)#Log Accuracy: 0.8955815527409843\n",
    "test_VHSE_scale = filter_and_drop(test_x1_VHSE_scale)\n",
    "\n",
    "train_T_scale = filter_and_drop(train_x1_T_scale)#Log Accuracy: 0.8880079925231236\n",
    "test_T_scale = filter_and_drop(test_x1_T_scale)\n",
    "\n",
    "train_MS_WHIM = filter_and_drop(train_x1_MS_WHIM)#Log Accuracy: 0.8672532147346032\n",
    "test_MS_WHIM = filter_and_drop(test_x1_MS_WHIM)\n",
    "\n",
    "train_Physical = filter_and_drop(train_x1_Physical)# rvm Accuracy: 0.8513970801508266\n",
    "test_Physical = filter_and_drop(test_x1_Physical)\n",
    "\n",
    "train_ST_scale = filter_and_drop(train_x1_ST_scale) #log Accuracy: 0.8951948177511361\n",
    "test_ST_scale = filter_and_drop(test_x1_ST_scale) \n",
    "\n",
    "train_Z_scale = filter_and_drop(train_x1_Z_scale)#log accuracy Scores: 0.8827870701601728\n",
    "test_Z_scale = filter_and_drop(test_x1_Z_scale)"
   ]
  },
  {
   "cell_type": "markdown",
   "id": "df076db6",
   "metadata": {
    "id": "df076db6"
   },
   "source": [
    "### Save them to local"
   ]
  },
  {
   "cell_type": "code",
   "execution_count": null,
   "id": "81951cb0",
   "metadata": {},
   "outputs": [],
   "source": [
    "dfs_to_save = {\n",
    "    'train_DPPS.h5': train_DPPS,\n",
    "    'test_DPPS.h5': test_DPPS,\n",
    "    'train_VHSE_scale.h5': train_VHSE_scale,\n",
    "    'test_VHSE_scale.h5': test_VHSE_scale,\n",
    "    'train_T_scale.h5': train_T_scale,\n",
    "    'test_T_scale.h5': test_T_scale,\n",
    "    'train_MS_WHIM.h5': train_MS_WHIM,\n",
    "    'test_MS_WHIM.h5': test_MS_WHIM,\n",
    "    'train_Physical.h5': train_Physical,\n",
    "    'test_Physical.h5': test_Physical,\n",
    "    'train_ST_scale.h5': train_ST_scale,\n",
    "    'test_ST_scale.h5': test_ST_scale,\n",
    "    'train_Z_scale.h5': train_Z_scale,\n",
    "    'test_Z_scale.h5': test_Z_scale,\n",
    "}\n",
    "\n",
    "# Loop through the dictionary and save each DataFrame as an HDF5 file\n",
    "for file_name, df in dfs_to_save.items():\n",
    "    key = file_name.split('.')[0]  # Extract key from file name\n",
    "    df.to_hdf(file_name, key=key)\n"
   ]
  },
  {
   "cell_type": "markdown",
   "id": "H-XpghoZ5w76",
   "metadata": {
    "id": "H-XpghoZ5w76"
   },
   "source": [
    "## Load data with descriptions"
   ]
  },
  {
   "cell_type": "code",
   "execution_count": 12,
   "id": "52b93dcb",
   "metadata": {
    "colab": {
     "base_uri": "https://localhost:8080/",
     "height": 417
    },
    "executionInfo": {
     "elapsed": 208,
     "status": "error",
     "timestamp": 1699816573160,
     "user": {
      "displayName": "Anqi Wu",
      "userId": "10543324134832573727"
     },
     "user_tz": 300
    },
    "id": "52b93dcb",
    "outputId": "7c8a5083-9cbe-44c0-9652-d4b9be743d88"
   },
   "outputs": [],
   "source": [
    "import os\n",
    "\n",
    "# List all HDF5 files in the current directory\n",
    "hdf5_files = [f for f in os.listdir('.') if f.endswith('.h5')]\n",
    "\n",
    "# Loop through the files and read each one as a DataFrame\n",
    "for file in hdf5_files:\n",
    "    # Extract the base name without the .h5 extension to use as the DataFrame variable name\n",
    "    df_name = file.split('.')[0]\n",
    "    # Dynamically create a variable with the same name as df_name and assign the DataFrame to it\n",
    "    globals()[df_name] = pd.read_hdf(file, key=df_name)\n"
   ]
  },
  {
   "cell_type": "code",
   "execution_count": 13,
   "id": "6d0db613",
   "metadata": {},
   "outputs": [
    {
     "data": {
      "text/html": [
       "<div>\n",
       "<style scoped>\n",
       "    .dataframe tbody tr th:only-of-type {\n",
       "        vertical-align: middle;\n",
       "    }\n",
       "\n",
       "    .dataframe tbody tr th {\n",
       "        vertical-align: top;\n",
       "    }\n",
       "\n",
       "    .dataframe thead th {\n",
       "        text-align: right;\n",
       "    }\n",
       "</style>\n",
       "<table border=\"1\" class=\"dataframe\">\n",
       "  <thead>\n",
       "    <tr style=\"text-align: right;\">\n",
       "      <th></th>\n",
       "      <th>D1_0</th>\n",
       "      <th>D2_0</th>\n",
       "      <th>D3_0</th>\n",
       "      <th>D4_0</th>\n",
       "      <th>D5_0</th>\n",
       "      <th>D6_0</th>\n",
       "      <th>D7_0</th>\n",
       "      <th>D8_0</th>\n",
       "      <th>D9_0</th>\n",
       "      <th>D10_0</th>\n",
       "      <th>...</th>\n",
       "      <th>D1_232</th>\n",
       "      <th>D2_232</th>\n",
       "      <th>D3_232</th>\n",
       "      <th>D4_232</th>\n",
       "      <th>D5_232</th>\n",
       "      <th>D6_232</th>\n",
       "      <th>D7_232</th>\n",
       "      <th>D8_232</th>\n",
       "      <th>D9_232</th>\n",
       "      <th>D10_232</th>\n",
       "    </tr>\n",
       "  </thead>\n",
       "  <tbody>\n",
       "    <tr>\n",
       "      <th>0</th>\n",
       "      <td>2.47</td>\n",
       "      <td>1.54</td>\n",
       "      <td>-4.28</td>\n",
       "      <td>-0.86</td>\n",
       "      <td>2.77</td>\n",
       "      <td>2.06</td>\n",
       "      <td>-6.18</td>\n",
       "      <td>2.05</td>\n",
       "      <td>2.19</td>\n",
       "      <td>-1.65</td>\n",
       "      <td>...</td>\n",
       "      <td>2.1</td>\n",
       "      <td>1.26</td>\n",
       "      <td>1.15</td>\n",
       "      <td>0.91</td>\n",
       "      <td>5.9</td>\n",
       "      <td>0.74</td>\n",
       "      <td>3.71</td>\n",
       "      <td>3.32</td>\n",
       "      <td>0.25</td>\n",
       "      <td>1.33</td>\n",
       "    </tr>\n",
       "    <tr>\n",
       "      <th>1</th>\n",
       "      <td>2.47</td>\n",
       "      <td>1.54</td>\n",
       "      <td>-4.28</td>\n",
       "      <td>-0.86</td>\n",
       "      <td>2.77</td>\n",
       "      <td>2.06</td>\n",
       "      <td>-6.18</td>\n",
       "      <td>2.05</td>\n",
       "      <td>2.19</td>\n",
       "      <td>-1.65</td>\n",
       "      <td>...</td>\n",
       "      <td>2.1</td>\n",
       "      <td>1.26</td>\n",
       "      <td>1.15</td>\n",
       "      <td>0.91</td>\n",
       "      <td>5.9</td>\n",
       "      <td>0.74</td>\n",
       "      <td>3.71</td>\n",
       "      <td>3.32</td>\n",
       "      <td>0.25</td>\n",
       "      <td>1.33</td>\n",
       "    </tr>\n",
       "    <tr>\n",
       "      <th>2</th>\n",
       "      <td>2.47</td>\n",
       "      <td>1.54</td>\n",
       "      <td>-4.28</td>\n",
       "      <td>-0.86</td>\n",
       "      <td>2.77</td>\n",
       "      <td>2.06</td>\n",
       "      <td>-6.18</td>\n",
       "      <td>2.05</td>\n",
       "      <td>2.19</td>\n",
       "      <td>-1.65</td>\n",
       "      <td>...</td>\n",
       "      <td>2.1</td>\n",
       "      <td>1.26</td>\n",
       "      <td>1.15</td>\n",
       "      <td>0.91</td>\n",
       "      <td>5.9</td>\n",
       "      <td>0.74</td>\n",
       "      <td>3.71</td>\n",
       "      <td>3.32</td>\n",
       "      <td>0.25</td>\n",
       "      <td>1.33</td>\n",
       "    </tr>\n",
       "    <tr>\n",
       "      <th>3</th>\n",
       "      <td>2.47</td>\n",
       "      <td>1.54</td>\n",
       "      <td>-4.28</td>\n",
       "      <td>-0.86</td>\n",
       "      <td>2.77</td>\n",
       "      <td>2.06</td>\n",
       "      <td>-6.18</td>\n",
       "      <td>2.05</td>\n",
       "      <td>2.19</td>\n",
       "      <td>-1.65</td>\n",
       "      <td>...</td>\n",
       "      <td>2.1</td>\n",
       "      <td>1.26</td>\n",
       "      <td>1.15</td>\n",
       "      <td>0.91</td>\n",
       "      <td>5.9</td>\n",
       "      <td>0.74</td>\n",
       "      <td>3.71</td>\n",
       "      <td>3.32</td>\n",
       "      <td>0.25</td>\n",
       "      <td>1.33</td>\n",
       "    </tr>\n",
       "    <tr>\n",
       "      <th>4</th>\n",
       "      <td>2.47</td>\n",
       "      <td>1.54</td>\n",
       "      <td>-4.28</td>\n",
       "      <td>-0.86</td>\n",
       "      <td>2.77</td>\n",
       "      <td>2.06</td>\n",
       "      <td>-6.18</td>\n",
       "      <td>2.05</td>\n",
       "      <td>2.19</td>\n",
       "      <td>-1.65</td>\n",
       "      <td>...</td>\n",
       "      <td>2.1</td>\n",
       "      <td>1.26</td>\n",
       "      <td>1.15</td>\n",
       "      <td>0.91</td>\n",
       "      <td>5.9</td>\n",
       "      <td>0.74</td>\n",
       "      <td>3.71</td>\n",
       "      <td>3.32</td>\n",
       "      <td>0.25</td>\n",
       "      <td>1.33</td>\n",
       "    </tr>\n",
       "    <tr>\n",
       "      <th>...</th>\n",
       "      <td>...</td>\n",
       "      <td>...</td>\n",
       "      <td>...</td>\n",
       "      <td>...</td>\n",
       "      <td>...</td>\n",
       "      <td>...</td>\n",
       "      <td>...</td>\n",
       "      <td>...</td>\n",
       "      <td>...</td>\n",
       "      <td>...</td>\n",
       "      <td>...</td>\n",
       "      <td>...</td>\n",
       "      <td>...</td>\n",
       "      <td>...</td>\n",
       "      <td>...</td>\n",
       "      <td>...</td>\n",
       "      <td>...</td>\n",
       "      <td>...</td>\n",
       "      <td>...</td>\n",
       "      <td>...</td>\n",
       "      <td>...</td>\n",
       "    </tr>\n",
       "    <tr>\n",
       "      <th>31024</th>\n",
       "      <td>2.47</td>\n",
       "      <td>1.54</td>\n",
       "      <td>-4.28</td>\n",
       "      <td>-0.86</td>\n",
       "      <td>2.77</td>\n",
       "      <td>2.06</td>\n",
       "      <td>-6.18</td>\n",
       "      <td>2.05</td>\n",
       "      <td>2.19</td>\n",
       "      <td>-1.65</td>\n",
       "      <td>...</td>\n",
       "      <td>2.1</td>\n",
       "      <td>1.26</td>\n",
       "      <td>1.15</td>\n",
       "      <td>0.91</td>\n",
       "      <td>5.9</td>\n",
       "      <td>0.74</td>\n",
       "      <td>3.71</td>\n",
       "      <td>3.32</td>\n",
       "      <td>0.25</td>\n",
       "      <td>1.33</td>\n",
       "    </tr>\n",
       "    <tr>\n",
       "      <th>31025</th>\n",
       "      <td>2.47</td>\n",
       "      <td>1.54</td>\n",
       "      <td>-4.28</td>\n",
       "      <td>-0.86</td>\n",
       "      <td>2.77</td>\n",
       "      <td>2.06</td>\n",
       "      <td>-6.18</td>\n",
       "      <td>2.05</td>\n",
       "      <td>2.19</td>\n",
       "      <td>-1.65</td>\n",
       "      <td>...</td>\n",
       "      <td>0.21</td>\n",
       "      <td>1.12</td>\n",
       "      <td>3.42</td>\n",
       "      <td>-0.68</td>\n",
       "      <td>-2.27</td>\n",
       "      <td>-1.22</td>\n",
       "      <td>3.11</td>\n",
       "      <td>-2.98</td>\n",
       "      <td>-1.7</td>\n",
       "      <td>1.57</td>\n",
       "    </tr>\n",
       "    <tr>\n",
       "      <th>31026</th>\n",
       "      <td>2.47</td>\n",
       "      <td>1.54</td>\n",
       "      <td>-4.28</td>\n",
       "      <td>-0.86</td>\n",
       "      <td>2.77</td>\n",
       "      <td>2.06</td>\n",
       "      <td>-6.18</td>\n",
       "      <td>2.05</td>\n",
       "      <td>2.19</td>\n",
       "      <td>-1.65</td>\n",
       "      <td>...</td>\n",
       "      <td>2.1</td>\n",
       "      <td>1.26</td>\n",
       "      <td>1.15</td>\n",
       "      <td>0.91</td>\n",
       "      <td>5.9</td>\n",
       "      <td>0.74</td>\n",
       "      <td>3.71</td>\n",
       "      <td>3.32</td>\n",
       "      <td>0.25</td>\n",
       "      <td>1.33</td>\n",
       "    </tr>\n",
       "    <tr>\n",
       "      <th>31027</th>\n",
       "      <td>2.47</td>\n",
       "      <td>1.54</td>\n",
       "      <td>-4.28</td>\n",
       "      <td>-0.86</td>\n",
       "      <td>2.77</td>\n",
       "      <td>2.06</td>\n",
       "      <td>-6.18</td>\n",
       "      <td>2.05</td>\n",
       "      <td>2.19</td>\n",
       "      <td>-1.65</td>\n",
       "      <td>...</td>\n",
       "      <td>2.1</td>\n",
       "      <td>1.26</td>\n",
       "      <td>1.15</td>\n",
       "      <td>0.91</td>\n",
       "      <td>5.9</td>\n",
       "      <td>0.74</td>\n",
       "      <td>3.71</td>\n",
       "      <td>3.32</td>\n",
       "      <td>0.25</td>\n",
       "      <td>1.33</td>\n",
       "    </tr>\n",
       "    <tr>\n",
       "      <th>31028</th>\n",
       "      <td>2.47</td>\n",
       "      <td>1.54</td>\n",
       "      <td>-4.28</td>\n",
       "      <td>-0.86</td>\n",
       "      <td>2.77</td>\n",
       "      <td>2.06</td>\n",
       "      <td>-6.18</td>\n",
       "      <td>2.05</td>\n",
       "      <td>2.19</td>\n",
       "      <td>-1.65</td>\n",
       "      <td>...</td>\n",
       "      <td>2.1</td>\n",
       "      <td>1.26</td>\n",
       "      <td>1.15</td>\n",
       "      <td>0.91</td>\n",
       "      <td>5.9</td>\n",
       "      <td>0.74</td>\n",
       "      <td>3.71</td>\n",
       "      <td>3.32</td>\n",
       "      <td>0.25</td>\n",
       "      <td>1.33</td>\n",
       "    </tr>\n",
       "  </tbody>\n",
       "</table>\n",
       "<p>31029 rows × 2330 columns</p>\n",
       "</div>"
      ],
      "text/plain": [
       "       D1_0  D2_0   D3_0   D4_0  D5_0  D6_0   D7_0  D8_0  D9_0  D10_0  ...  \\\n",
       "0      2.47  1.54  -4.28  -0.86  2.77  2.06  -6.18  2.05  2.19  -1.65  ...   \n",
       "1      2.47  1.54  -4.28  -0.86  2.77  2.06  -6.18  2.05  2.19  -1.65  ...   \n",
       "2      2.47  1.54  -4.28  -0.86  2.77  2.06  -6.18  2.05  2.19  -1.65  ...   \n",
       "3      2.47  1.54  -4.28  -0.86  2.77  2.06  -6.18  2.05  2.19  -1.65  ...   \n",
       "4      2.47  1.54  -4.28  -0.86  2.77  2.06  -6.18  2.05  2.19  -1.65  ...   \n",
       "...     ...   ...    ...    ...   ...   ...    ...   ...   ...    ...  ...   \n",
       "31024  2.47  1.54  -4.28  -0.86  2.77  2.06  -6.18  2.05  2.19  -1.65  ...   \n",
       "31025  2.47  1.54  -4.28  -0.86  2.77  2.06  -6.18  2.05  2.19  -1.65  ...   \n",
       "31026  2.47  1.54  -4.28  -0.86  2.77  2.06  -6.18  2.05  2.19  -1.65  ...   \n",
       "31027  2.47  1.54  -4.28  -0.86  2.77  2.06  -6.18  2.05  2.19  -1.65  ...   \n",
       "31028  2.47  1.54  -4.28  -0.86  2.77  2.06  -6.18  2.05  2.19  -1.65  ...   \n",
       "\n",
       "      D1_232 D2_232 D3_232 D4_232 D5_232 D6_232 D7_232 D8_232 D9_232 D10_232  \n",
       "0        2.1   1.26   1.15   0.91    5.9   0.74   3.71   3.32   0.25    1.33  \n",
       "1        2.1   1.26   1.15   0.91    5.9   0.74   3.71   3.32   0.25    1.33  \n",
       "2        2.1   1.26   1.15   0.91    5.9   0.74   3.71   3.32   0.25    1.33  \n",
       "3        2.1   1.26   1.15   0.91    5.9   0.74   3.71   3.32   0.25    1.33  \n",
       "4        2.1   1.26   1.15   0.91    5.9   0.74   3.71   3.32   0.25    1.33  \n",
       "...      ...    ...    ...    ...    ...    ...    ...    ...    ...     ...  \n",
       "31024    2.1   1.26   1.15   0.91    5.9   0.74   3.71   3.32   0.25    1.33  \n",
       "31025   0.21   1.12   3.42  -0.68  -2.27  -1.22   3.11  -2.98   -1.7    1.57  \n",
       "31026    2.1   1.26   1.15   0.91    5.9   0.74   3.71   3.32   0.25    1.33  \n",
       "31027    2.1   1.26   1.15   0.91    5.9   0.74   3.71   3.32   0.25    1.33  \n",
       "31028    2.1   1.26   1.15   0.91    5.9   0.74   3.71   3.32   0.25    1.33  \n",
       "\n",
       "[31029 rows x 2330 columns]"
      ]
     },
     "execution_count": 13,
     "metadata": {},
     "output_type": "execute_result"
    }
   ],
   "source": [
    "train_DPPS"
   ]
  },
  {
   "cell_type": "code",
   "execution_count": 14,
   "id": "MiIMkxeZ6K1W",
   "metadata": {
    "colab": {
     "base_uri": "https://localhost:8080/",
     "height": 424
    },
    "executionInfo": {
     "elapsed": 156,
     "status": "ok",
     "timestamp": 1699817673437,
     "user": {
      "displayName": "Anqi Wu",
      "userId": "10543324134832573727"
     },
     "user_tz": 300
    },
    "id": "MiIMkxeZ6K1W",
    "outputId": "ee6b885d-66c2-47c4-fadb-6a3a5c968c9f"
   },
   "outputs": [
    {
     "data": {
      "text/html": [
       "<div>\n",
       "<style scoped>\n",
       "    .dataframe tbody tr th:only-of-type {\n",
       "        vertical-align: middle;\n",
       "    }\n",
       "\n",
       "    .dataframe tbody tr th {\n",
       "        vertical-align: top;\n",
       "    }\n",
       "\n",
       "    .dataframe thead th {\n",
       "        text-align: right;\n",
       "    }\n",
       "</style>\n",
       "<table border=\"1\" class=\"dataframe\">\n",
       "  <thead>\n",
       "    <tr style=\"text-align: right;\">\n",
       "      <th></th>\n",
       "      <th>Brightness_Class</th>\n",
       "    </tr>\n",
       "  </thead>\n",
       "  <tbody>\n",
       "    <tr>\n",
       "      <th>0</th>\n",
       "      <td>0</td>\n",
       "    </tr>\n",
       "    <tr>\n",
       "      <th>1</th>\n",
       "      <td>0</td>\n",
       "    </tr>\n",
       "    <tr>\n",
       "      <th>2</th>\n",
       "      <td>0</td>\n",
       "    </tr>\n",
       "    <tr>\n",
       "      <th>3</th>\n",
       "      <td>0</td>\n",
       "    </tr>\n",
       "    <tr>\n",
       "      <th>4</th>\n",
       "      <td>0</td>\n",
       "    </tr>\n",
       "    <tr>\n",
       "      <th>...</th>\n",
       "      <td>...</td>\n",
       "    </tr>\n",
       "    <tr>\n",
       "      <th>31024</th>\n",
       "      <td>0</td>\n",
       "    </tr>\n",
       "    <tr>\n",
       "      <th>31025</th>\n",
       "      <td>0</td>\n",
       "    </tr>\n",
       "    <tr>\n",
       "      <th>31026</th>\n",
       "      <td>0</td>\n",
       "    </tr>\n",
       "    <tr>\n",
       "      <th>31027</th>\n",
       "      <td>1</td>\n",
       "    </tr>\n",
       "    <tr>\n",
       "      <th>31028</th>\n",
       "      <td>1</td>\n",
       "    </tr>\n",
       "  </tbody>\n",
       "</table>\n",
       "<p>31029 rows × 1 columns</p>\n",
       "</div>"
      ],
      "text/plain": [
       "       Brightness_Class\n",
       "0                     0\n",
       "1                     0\n",
       "2                     0\n",
       "3                     0\n",
       "4                     0\n",
       "...                 ...\n",
       "31024                 0\n",
       "31025                 0\n",
       "31026                 0\n",
       "31027                 1\n",
       "31028                 1\n",
       "\n",
       "[31029 rows x 1 columns]"
      ]
     },
     "execution_count": 14,
     "metadata": {},
     "output_type": "execute_result"
    }
   ],
   "source": [
    "train_y1 = train_y1.drop('Id', axis=1)\n",
    "train_y1"
   ]
  },
  {
   "cell_type": "markdown",
   "id": "10339088",
   "metadata": {
    "id": "10339088"
   },
   "source": [
    "## Pipline with F1/accuracy scores for raw data"
   ]
  },
  {
   "cell_type": "code",
   "execution_count": null,
   "id": "ff7d650e",
   "metadata": {
    "id": "ff7d650e"
   },
   "outputs": [],
   "source": [
    "from sklearn.pipeline import Pipeline\n",
    "from sklearn.preprocessing import StandardScaler\n",
    "from sklearn.linear_model import LogisticRegression\n",
    "from sklearn.linear_model import LinearRegression\n",
    "from sklearn.ensemble import RandomForestClassifier, GradientBoostingClassifier\n",
    "from sklearn.svm import SVC\n",
    "from sklearn.neighbors import KNeighborsClassifier\n",
    "from sklearn.naive_bayes import GaussianNB\n",
    "from sklearn.tree import DecisionTreeClassifier\n",
    "from sklearn.model_selection import cross_val_predict\n",
    "from sklearn.metrics import f1_score, accuracy_score\n",
    "\n",
    "pipelines = {\n",
    "    'linear_reg': Pipeline([('scaler', StandardScaler()), ('model', LinearRegression())]),\n",
    "    'logistic_reg': Pipeline([('scaler', StandardScaler()), ('model', LogisticRegression(max_iter=10000))]),\n",
    "    'random_forest': Pipeline([('scaler', StandardScaler()), ('model', RandomForestClassifier())]),\n",
    "    'gradient_boosting': Pipeline([('scaler', StandardScaler()), ('model', GradientBoostingClassifier())]),\n",
    "    'knn': Pipeline([('scaler', StandardScaler()), ('model', KNeighborsClassifier())]),\n",
    "    'naive_bayes': Pipeline([('scaler', StandardScaler()), ('model', GaussianNB())]),\n",
    "    'decision_tree': Pipeline([('scaler', StandardScaler()), ('model', DecisionTreeClassifier())]),\n",
    "    'svm': Pipeline([('scaler', StandardScaler()), ('model', SVC())])\n",
    "}\n",
    "# List of dataset pairs with descriptive names\n",
    "datasets = {\n",
    "    'DPPS': (train_DPPS, test_DPPS),\n",
    "    'VHSE_scale': (train_VHSE_scale, test_VHSE_scale),\n",
    "    'T_scale': (train_T_scale, test_T_scale),\n",
    "    'MS_WHIM': (train_MS_WHIM, test_MS_WHIM),\n",
    "    'Physical': (train_Physical, test_Physical),\n",
    "    'ST_scale': (train_ST_scale, test_ST_scale),\n",
    "    'Z_scale': (train_Z_scale, test_Z_scale)\n",
    "}\n",
    "\n",
    "for dataset_name, (train_set, test_set) in datasets.items():\n",
    "    print(f\"Processing dataset: {dataset_name}\")\n",
    "\n",
    "    for name, pipeline in pipelines.items():\n",
    "        pipeline.fit(train_set, train_y1.squeeze())\n",
    "\n",
    "        # Cross-validated predictions\n",
    "        predicted_values = cross_val_predict(pipeline, train_set, train_y1.squeeze(), cv=5)\n",
    "        predicted_classes = (predicted_values > 0.5).astype(int)\n",
    "\n",
    "        # Compute f1 score and accuracy\n",
    "        f1 = f1_score(train_y1, predicted_classes)\n",
    "        acc = accuracy_score(train_y1, predicted_classes)\n",
    "\n",
    "        print(f'{name} - {dataset_name} - Cross-Validation f1 Score: {f1}')\n",
    "        print(f'{name} - {dataset_name} - Cross-Validation Accuracy: {acc}')\n",
    "        print()\n",
    "\n",
    "        # Predict on test set\n",
    "        pred = pipeline.predict(test_set)\n",
    "        pred_binary = np.where(pred >= 0.5, 1, 0)\n",
    "\n",
    "        # Prepare submission DataFrame\n",
    "        submission_df = pd.DataFrame()\n",
    "        submission_df['Id'] = test_x['Id']  # Assuming 'Id' column exists in test_set\n",
    "        submission_df['Brightness_Class'] = pred_binary\n",
    "\n",
    "        # Save predictions to CSV\n",
    "        submission_df.to_csv(f'{name}_{dataset_name}.csv', index=False)"
   ]
  },
  {
   "cell_type": "markdown",
   "id": "hPFreZ_K1gJn",
   "metadata": {
    "id": "hPFreZ_K1gJn"
   },
   "source": [
    "output of the above:\n",
    "\n",
    "Processing dataset: DPPS\n",
    "    \n",
    "    linear_reg - DPPS - Cross-Validation f1 Score: 0.8052822565560585\n",
    "    linear_reg - DPPS - Cross-Validation Accuracy: 0.8322536981533404\n",
    "\n",
    "    logistic_reg - DPPS - Cross-Validation f1 Score: 0.8689353781410594\n",
    "    logistic_reg - DPPS - Cross-Validation Accuracy: 0.895613780656805\n",
    "\n",
    "    random_forest - DPPS - Cross-Validation f1 Score: 0.8194851240943425\n",
    "    random_forest - DPPS - Cross-Validation Accuracy: 0.8490444422959167\n",
    "\n",
    "    svm - DPPS - Cross-Validation f1 Score: 0.846286836935167\n",
    "    svm - DPPS - Cross-Validation Accuracy: 0.8739243933094847\n",
    "\n",
    "Processing dataset: VHSE_scale\n",
    "\n",
    "    linear_reg - VHSE_scale - Cross-Validation f1 Score: 0.8175323708885252\n",
    "    linear_reg - VHSE_scale - Cross-Validation Accuracy: 0.8419543008153663\n",
    "\n",
    "    logistic_reg - VHSE_scale - Cross-Validation f1 Score: 0.8688683827100535\n",
    "    logistic_reg - VHSE_scale - Cross-Validation Accuracy: 0.8955815527409843\n",
    "\n",
    "    random_forest - VHSE_scale - Cross-Validation f1 Score: 0.8206034979819335\n",
    "    random_forest - VHSE_scale - Cross-Validation Accuracy: 0.8495923168648684\n",
    "\n",
    "    svm - VHSE_scale - Cross-Validation f1 Score: 0.8425528564116698\n",
    "    svm - VHSE_scale - Cross-Validation Accuracy: 0.8711205646330852\n",
    "\n",
    "Processing dataset: T_scale\n",
    "\n",
    "    linear_reg - T_scale - Cross-Validation f1 Score: 0.8303154750793355\n",
    "    linear_reg - T_scale - Cross-Validation Accuracy: 0.8535241225949918\n",
    "\n",
    "    logistic_reg - T_scale - Cross-Validation f1 Score: 0.8606264789636225\n",
    "    logistic_reg - T_scale - Cross-Validation Accuracy: 0.8880079925231236\n",
    "\n",
    "    random_forest - T_scale - Cross-Validation f1 Score: 0.817259079155571\n",
    "    random_forest - T_scale - Cross-Validation Accuracy: 0.8474008185890618\n",
    "\n",
    "    svm - T_scale - Cross-Validation f1 Score: 0.8358326445467785\n",
    "    svm - T_scale - Cross-Validation Accuracy: 0.8655773631119276\n",
    "\n",
    "Processing dataset: MS_WHIM\n",
    "\n",
    "    linear_reg - MS_WHIM - Cross-Validation f1 Score: 0.8112937273823884\n",
    "    linear_reg - MS_WHIM - Cross-Validation Accuracy: 0.8386670534016565\n",
    "\n",
    "    logistic_reg - MS_WHIM - Cross-Validation f1 Score: 0.8374827382126652\n",
    "    logistic_reg - MS_WHIM - Cross-Validation Accuracy: 0.8672532147346032\n",
    "\n",
    "    random_forest - MS_WHIM - Cross-Validation f1 Score: 0.8186121694954395\n",
    "    random_forest - MS_WHIM - Cross-Validation Accuracy: 0.8481098327371169\n",
    "\n",
    "    svm - MS_WHIM - Cross-Validation f1 Score: 0.8299431065388513\n",
    "    svm - MS_WHIM - Cross-Validation Accuracy: 0.8593573753585355\n",
    "\n",
    "Processing dataset: Physical\n",
    "\n",
    "    linear_reg - Physical - Cross-Validation f1 Score: 0.7979828619094562\n",
    "    linear_reg - Physical - Cross-Validation Accuracy: 0.8282896645073963\n",
    "\n",
    "    logistic_reg - Physical - Cross-Validation f1 Score: 0.8170631665299425\n",
    "    logistic_reg - Physical - Cross-Validation Accuracy: 0.8490766702117374\n",
    "\n",
    "    random_forest - Physical - Cross-Validation f1 Score: 0.8196420376319412\n",
    "    random_forest - Physical - Cross-Validation Accuracy: 0.8480131489896549\n",
    "\n",
    "    svm - Physical - Cross-Validation f1 Score: 0.8205208049511502\n",
    "    svm - Physical - Cross-Validation Accuracy: 0.8513970801508266\n",
    "\n",
    "Processing dataset: ST_scale\n",
    "\n",
    "    linear_reg - ST_scale - Cross-Validation f1 Score: 0.8147900159952386\n",
    "    linear_reg - ST_scale - Cross-Validation Accuracy: 0.839537207128815\n",
    "\n",
    "    logistic_reg - ST_scale - Cross-Validation f1 Score: 0.8686909472664136\n",
    "    logistic_reg - ST_scale - Cross-Validation Accuracy: 0.8951948177511361\n",
    "\n",
    "    random_forest - ST_scale - Cross-Validation f1 Score: 0.8195987654320988\n",
    "    random_forest - ST_scale - Cross-Validation Accuracy: 0.8493022656224822\n",
    "\n",
    "Processing dataset: Z_scale\n",
    "\n",
    "    linear_reg - Z_scale - Cross-Validation f1 Score: 0.8147900159952386\n",
    "    linear_reg - Z_scalee - Cross-Validation Accuracy: 0.839537207128815\n",
    "\n",
    "    logistic_reg - Z_scale - Cross-Validation f1 Score: 0.8686909472664136\n",
    "    logistic_reg - Z_scale - Cross-Validation Accuracy: 0.8951948177511361\n",
    "\n",
    "    random_forest - Z_scale - Cross-Validation f1 Score: 0.8195987654320988\n",
    "    random_forest - Z_scale - Cross-Validation Accuracy: 0.8493022656224822"
   ]
  },
  {
   "cell_type": "markdown",
   "id": "d4f2d828",
   "metadata": {},
   "source": [
    "### The output shows that DPPS description has the overallly best prediction, and logistic regression perform the best out of the other models."
   ]
  },
  {
   "cell_type": "markdown",
   "id": "7e57381d",
   "metadata": {},
   "source": [
    "## Some methods to modify the dataset to simplify testing:"
   ]
  },
  {
   "cell_type": "markdown",
   "id": "cd9455fd",
   "metadata": {},
   "source": [
    "### PCA (will train faster but will lower accuracy)"
   ]
  },
  {
   "cell_type": "code",
   "execution_count": null,
   "id": "e40b0f6c",
   "metadata": {},
   "outputs": [],
   "source": [
    "#find optimal n components\n",
    "from sklearn.decomposition import PCA\n",
    "\n",
    "pca = PCA().fit(train_DPPS)  # Fit PCA to the data without specifying n_components\n",
    "cumulative_variance = np.cumsum(pca.explained_variance_ratio_)\n",
    "\n",
    "# Choose a threshold (e.g., 0.95 for 95% of explained variance)\n",
    "n_components = np.where(cumulative_variance >= 0.95)[0][0] + 1\n",
    "n_components"
   ]
  },
  {
   "cell_type": "code",
   "execution_count": 19,
   "id": "762e86d7",
   "metadata": {},
   "outputs": [],
   "source": [
    "from sklearn.decomposition import PCA\n",
    "\n",
    "# Create a PCA model and specify the number of components to keep\n",
    "pca = PCA(n_components=100, svd_solver='randomized')  # Set the number of components you want to keep\n",
    "pca.fit(train_DPPS)\n",
    "\n",
    "# Transform the data using the PCA model\n",
    "X_train_reduced = pca.transform(train_DPPS)\n",
    "X_test_reduced = pca.transform(test_DPPS)\n"
   ]
  },
  {
   "cell_type": "code",
   "execution_count": null,
   "metadata": {},
   "outputs": [],
   "source": []
  },
  {
   "cell_type": "markdown",
   "id": "971bef06",
   "metadata": {},
   "source": [
    "### Find the optimized Logistic Reg. Parameter"
   ]
  },
  {
   "cell_type": "code",
   "execution_count": null,
   "id": "d9461a3c",
   "metadata": {},
   "outputs": [],
   "source": [
    "from sklearn.linear_model import LogisticRegression\n",
    "from sklearn.model_selection import GridSearchCV\n",
    "\n",
    "# Updated parameter grid to search\n",
    "param_grid = [\n",
    "    {'C': [0.01, 0.1, 1, 10, 100],\n",
    "     'solver': ['liblinear', 'saga'],\n",
    "     'penalty': ['l1', 'l2']},\n",
    "    {'C': [0.01, 0.1, 1, 10, 100],\n",
    "     'solver': ['newton-cg'],\n",
    "     'penalty': ['l2']}\n",
    "]\n",
    "\n",
    "# Grid search with cross-validation\n",
    "log_reg = LogisticRegression(max_iter=10000)\n",
    "grid_search = GridSearchCV(log_reg, param_grid, cv=5, n_jobs=-1, verbose=1)\n",
    "grid_search.fit(X_train_reduced, train_y1.squeeze())  # X_train_reduced and train_y1 are your data\n",
    "\n",
    "# Best parameters\n",
    "print(\"Best parameters:\", grid_search.best_params_)"
   ]
  },
  {
   "cell_type": "markdown",
   "id": "8f7c4119",
   "metadata": {},
   "source": [
    "### This can help find the best parameter for the Logistic regression model, but it takes way too long for a dataset that has a lot of features."
   ]
  },
  {
   "cell_type": "markdown",
   "id": "77e892e6",
   "metadata": {},
   "source": [
    "## Pipline with modified parameter to optimize model:"
   ]
  },
  {
   "cell_type": "code",
   "execution_count": null,
   "id": "2df236a3",
   "metadata": {},
   "outputs": [],
   "source": [
    "from sklearn.pipeline import Pipeline\n",
    "from sklearn.preprocessing import StandardScaler\n",
    "from sklearn.linear_model import LogisticRegression\n",
    "from sklearn.linear_model import LinearRegression\n",
    "from sklearn.ensemble import RandomForestClassifier, GradientBoostingClassifier\n",
    "from sklearn.svm import SVC\n",
    "from sklearn.neighbors import KNeighborsClassifier\n",
    "from sklearn.naive_bayes import GaussianNB\n",
    "from sklearn.tree import DecisionTreeClassifier\n",
    "from sklearn.model_selection import cross_val_predict\n",
    "from sklearn.metrics import f1_score, accuracy_score\n",
    "\n",
    "pipelines = {\n",
    "    'X_train_reduced_log_reg': Pipeline([('scaler', StandardScaler()), ('model', LogisticRegression(C=0.1, solver='sag', penalty='l2',warm_start =True, max_iter=10000))])\n",
    "}\n",
    "\n",
    "datasets = {\n",
    "    'DPPS': (train_DPPS, test_DPPS),\n",
    "    'VHSE_scale': (train_VHSE_scale, test_VHSE_scale),\n",
    "    'T_scale': (train_T_scale, test_T_scale),\n",
    "    'MS_WHIM': (train_MS_WHIM, test_MS_WHIM),\n",
    "    'Physical': (train_Physical, test_Physical),\n",
    "    'ST_scale': (train_ST_scale, test_ST_scale),\n",
    "    'Z_scale': (train_Z_scale, test_Z_scale)\n",
    "}\n",
    "\n",
    "for name, pipeline in pipelines.items():\n",
    "    pipeline.fit(train_DPPS, train_y1.squeeze())\n",
    "\n",
    "    # Predictions from Cross-validation\n",
    "    predicted_values = cross_val_predict(pipeline, train_DPPS, train_y1.squeeze(), cv=5)\n",
    "    predicted_classes = (predicted_values > 0.5).astype(int)\n",
    "\n",
    "    # compute f1 score and accuracy\n",
    "    f1 = f1_score(train_y1, predicted_classes)\n",
    "    acc = accuracy_score(train_y1, predicted_classes)\n",
    "\n",
    "    print(f'{name} Cross-Validation f1 Scores: {f1}')\n",
    "    #print(f'{name} Average f1 Score: {f1.mean():.5f}')\n",
    "    print(f'{name} Cross-Validation accuracy Scores: {acc}')\n",
    "    #print(f'{name} Average accuracy Score: {acc.mean():.5f}')\n",
    "    print()\n",
    "\n",
    "    pred = pipeline.predict(test_DPPS)\n",
    "    pred_binary = np.where(pred >= 0.5, 1, 0)\n",
    "\n",
    "    submission_df = pd.DataFrame()\n",
    "    submission_df['Id'] = test_x['Id']\n",
    "    submission_df['Brightness_Class'] = pred_binary\n",
    "\n",
    "    submission_df.to_csv(f'{name}.csv', index=False)"
   ]
  },
  {
   "cell_type": "markdown",
   "id": "edc9272b",
   "metadata": {},
   "source": [
    "### Parameter Tuning output"
   ]
  },
  {
   "cell_type": "markdown",
   "id": "d86dcfa6",
   "metadata": {},
   "source": [
    "C=1, solver='lbfgs', penalty='l2'\n",
    "\n",
    "    X_train_reduced_log_reg Cross-Validation f1 Scores: 0.8689353781410594\n",
    "\n",
    "    X_train_reduced_log_reg Cross-Validation accuracy Scores: 0.895613780656805\n",
    "\n",
    "C=0.1, solver='lbfgs', penalty='l2'\n",
    "\n",
    "    X_train_reduced_log_reg Cross-Validation f1 Scores: 0.87033073537132\n",
    "\n",
    "    X_train_reduced_log_reg Cross-Validation accuracy Scores: 0.896516162299784 !!! THIS IS THE BEST MODEL That i can get\n",
    "\n",
    "C=0.01, solver='lbfgs', penalty='l2'\n",
    "\n",
    "    X_train_reduced_log_reg Cross-Validation f1 Scores: 0.8627111984282908\n",
    "\n",
    "    X_train_reduced_log_reg Cross-Validation accuracy Scores: 0.8873956621225305"
   ]
  },
  {
   "cell_type": "code",
   "execution_count": null,
   "id": "9162ee54",
   "metadata": {},
   "outputs": [],
   "source": [
    "n=100\n",
    "\n",
    "X_train_reduced_log_reg Cross-Validation f1 Scores: 0.7377360685616784\n",
    "X_train_reduced_log_reg Cross-Validation accuracy Scores: 0.7820426053047149\n",
    "\n",
    "C=100, solver='liblinear', penalty='l1'\n",
    "X_train_reduced_log_reg Cross-Validation f1 Scores: 0.7383253755677186\n",
    "X_train_reduced_log_reg Cross-Validation accuracy Scores: 0.7827516194527699\n",
    "\n",
    "C=1, solver='liblinear', penalty='l1'\n",
    "X_train_reduced_log_reg Cross-Validation f1 Scores: 0.7376222256712712\n",
    "X_train_reduced_log_reg Cross-Validation accuracy Scores: 0.7820748332205356\n",
    "    \n",
    "C=0.01, solver='liblinear', penalty='l1' 比之前的快\n",
    "X_train_reduced_log_reg Cross-Validation f1 Scores: 0.7125044251268536\n",
    "X_train_reduced_log_reg Cross-Validation accuracy Scores: 0.7644461632666215\n",
    "    \n",
    "C=0.01, solver='liblinear', penalty='l2' 比saga的高\n",
    "X_train_reduced_log_reg Cross-Validation f1 Scores: 0.7306304230975966\n",
    "X_train_reduced_log_reg Cross-Validation accuracy Scores: 0.773888942602082\n",
    "    \n",
    "C=10, solver='liblinear', penalty='l1'\n",
    "X_train_reduced_log_reg Cross-Validation f1 Scores: 0.7406604467500291\n",
    "X_train_reduced_log_reg Cross-Validation accuracy Scores: 0.7841051919172387\n",
    "\n",
    "C=10, solver='saga', penalty='l1'\n",
    "X_train_reduced_log_reg Cross-Validation f1 Scores: 0.7445947508382471\n",
    "X_train_reduced_log_reg Cross-Validation accuracy Scores: 0.7864256018563279\n",
    "    \n",
    "C=10, solver='newton-cg', penalty='l2'\n",
    "X_train_reduced_log_reg Cross-Validation f1 Scores: 0.7449333436079216\n",
    "X_train_reduced_log_reg Cross-Validation accuracy Scores: 0.7866511972670728 !!!!!!!\n",
    "C=100, solver='newton-cg', penalty='l2'\n",
    "X_train_reduced_log_reg Cross-Validation f1 Scores: 0.7446144360090947\n",
    "X_train_reduced_log_reg Cross-Validation accuracy Scores: 0.7864256018563279\n",
    "    \n",
    "C=1, solver='lbfgs', penalty='l2'\n",
    "X_train_reduced_log_reg Cross-Validation f1 Scores: 0.7455777046642151\n",
    "X_train_reduced_log_reg Cross-Validation accuracy Scores: 0.7881659093106449\n",
    "\n",
    "C=0.1, solver='lbfgs', penalty='l2'\n",
    "X_train_reduced_log_reg Cross-Validation f1 Scores: 0.7426098380926619\n",
    "X_train_reduced_log_reg Cross-Validation accuracy Scores: 0.7853298527184247\n",
    "    \n",
    "C=100, solver='saga', penalty='l1' 高了很多\n",
    "X_train_reduced_log_reg Cross-Validation f1 Scores: 0.7383456895547879\n",
    "X_train_reduced_log_reg Cross-Validation accuracy Scores: 0.7827516194527699\n",
    "    \n"
   ]
  },
  {
   "cell_type": "markdown",
   "id": "47abea3e",
   "metadata": {},
   "source": [
    "## Feature selection"
   ]
  },
  {
   "cell_type": "markdown",
   "id": "c220e350",
   "metadata": {},
   "source": [
    "### Recursive Feature Elimination (RFE) "
   ]
  },
  {
   "cell_type": "code",
   "execution_count": null,
   "id": "a518891a",
   "metadata": {},
   "outputs": [],
   "source": [
    "#CV to find the best n_features_to_select\n",
    "import numpy as np\n",
    "from sklearn.model_selection import StratifiedKFold, cross_val_score\n",
    "from sklearn.linear_model import LogisticRegression\n",
    "from sklearn.feature_selection import RFECV\n",
    "\n",
    "# Example model\n",
    "model = LogisticRegression()\n",
    "\n",
    "# Create RFECV (Recursive Feature Elimination with Cross-Validation)\n",
    "rfecv = RFECV(estimator=model, step=1, cv=StratifiedKFold(5), scoring='accuracy')\n",
    "rfecv.fit(train_DPPS, train_y1)\n",
    "\n",
    "print(\"Optimal number of features: %d\" % rfecv.n_features_)\n",
    "\n",
    "# Plot number of features vs. cross-validation scores\n",
    "import matplotlib.pyplot as plt\n",
    "\n",
    "plt.figure()\n",
    "plt.xlabel(\"Number of features selected\")\n",
    "plt.ylabel(\"Cross-validation score (nb of correct classifications)\")\n",
    "plt.plot(range(1, len(rfecv.grid_scores_) + 1), rfecv.grid_scores_)\n",
    "plt.show()"
   ]
  },
  {
   "cell_type": "code",
   "execution_count": null,
   "id": "f5d7c6a5",
   "metadata": {
    "id": "f5d7c6a5"
   },
   "outputs": [],
   "source": [
    "from sklearn.feature_selection import RFE\n",
    "from sklearn.linear_model import LogisticRegression  # or any other suitable model\n",
    "model = LogisticRegression()\n",
    "# Assuming train_x and train_y are your training data and labels\n",
    "# Let's say you want to select 10 features\n",
    "selector = RFE(model, n_features_to_select=200)\n",
    "selector = selector.fit(train_DPPS, train_y1.squeeze())\n",
    "# Assuming test_x is your test data\n",
    "X_train_selected = selector.transform(train_DPPS)\n",
    "X_test_selected = selector.transform(test_DPPS)"
   ]
  },
  {
   "cell_type": "code",
   "execution_count": null,
   "id": "7db9eb22",
   "metadata": {
    "id": "7db9eb22"
   },
   "outputs": [],
   "source": []
  }
 ],
 "metadata": {
  "accelerator": "TPU",
  "colab": {
   "provenance": []
  },
  "kernelspec": {
   "display_name": "Python 3 (ipykernel)",
   "language": "python",
   "name": "python3"
  },
  "language_info": {
   "codemirror_mode": {
    "name": "ipython",
    "version": 3
   },
   "file_extension": ".py",
   "mimetype": "text/x-python",
   "name": "python",
   "nbconvert_exporter": "python",
   "pygments_lexer": "ipython3",
   "version": "3.9.12"
  }
 },
 "nbformat": 4,
 "nbformat_minor": 5
}
